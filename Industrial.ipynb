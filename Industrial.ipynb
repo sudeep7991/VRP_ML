{
 "cells": [
  {
   "cell_type": "markdown",
   "metadata": {},
   "source": [
    "## Predicting Time of Delivery on Industrial dataset"
   ]
  },
  {
   "cell_type": "markdown",
   "metadata": {},
   "source": [
    "### Importing Necessary Libraries"
   ]
  },
  {
   "cell_type": "code",
   "execution_count": 190,
   "metadata": {},
   "outputs": [],
   "source": [
    "import pandas as pd\n",
    "import numpy as np\n",
    "import matplotlib.pyplot as plt\n",
    "import seaborn as sns"
   ]
  },
  {
   "cell_type": "code",
   "execution_count": 191,
   "metadata": {},
   "outputs": [],
   "source": [
    "from sklearn.model_selection import train_test_split\n",
    "from sklearn.preprocessing import StandardScaler\n",
    "from sklearn.metrics import mean_squared_error, r2_score\n",
    "from sklearn.linear_model import LinearRegression"
   ]
  },
  {
   "cell_type": "markdown",
   "metadata": {},
   "source": [
    "#### Importing the dataset"
   ]
  },
  {
   "cell_type": "code",
   "execution_count": 192,
   "metadata": {},
   "outputs": [],
   "source": [
    "data = pd.read_excel(\"../data_!/new.xlsx\")"
   ]
  },
  {
   "cell_type": "code",
   "execution_count": 193,
   "metadata": {},
   "outputs": [
    {
     "data": {
      "text/html": [
       "<div>\n",
       "<style scoped>\n",
       "    .dataframe tbody tr th:only-of-type {\n",
       "        vertical-align: middle;\n",
       "    }\n",
       "\n",
       "    .dataframe tbody tr th {\n",
       "        vertical-align: top;\n",
       "    }\n",
       "\n",
       "    .dataframe thead th {\n",
       "        text-align: right;\n",
       "    }\n",
       "</style>\n",
       "<table border=\"1\" class=\"dataframe\">\n",
       "  <thead>\n",
       "    <tr style=\"text-align: right;\">\n",
       "      <th></th>\n",
       "      <th>Customer_ID</th>\n",
       "      <th>Latitude</th>\n",
       "      <th>Longitude</th>\n",
       "      <th>City</th>\n",
       "      <th>date_of_delivery(dd/mm/yyyy)</th>\n",
       "      <th>Type_of_Product</th>\n",
       "      <th>Quantity</th>\n",
       "      <th>Time_of_Delivery(hrs)</th>\n",
       "    </tr>\n",
       "  </thead>\n",
       "  <tbody>\n",
       "    <tr>\n",
       "      <th>0</th>\n",
       "      <td>A101</td>\n",
       "      <td>48.115334</td>\n",
       "      <td>-1.676348</td>\n",
       "      <td>Rennes</td>\n",
       "      <td>2020-01-01</td>\n",
       "      <td>Perishable</td>\n",
       "      <td>5</td>\n",
       "      <td>1405</td>\n",
       "    </tr>\n",
       "    <tr>\n",
       "      <th>1</th>\n",
       "      <td>A102</td>\n",
       "      <td>48.088967</td>\n",
       "      <td>-1.660292</td>\n",
       "      <td>Rennes</td>\n",
       "      <td>2020-01-02</td>\n",
       "      <td>Perishable</td>\n",
       "      <td>6</td>\n",
       "      <td>1405</td>\n",
       "    </tr>\n",
       "    <tr>\n",
       "      <th>2</th>\n",
       "      <td>A103</td>\n",
       "      <td>47.216827</td>\n",
       "      <td>-1.557359</td>\n",
       "      <td>Rennes</td>\n",
       "      <td>2020-01-03</td>\n",
       "      <td>Perishable</td>\n",
       "      <td>7</td>\n",
       "      <td>1405</td>\n",
       "    </tr>\n",
       "    <tr>\n",
       "      <th>3</th>\n",
       "      <td>A104</td>\n",
       "      <td>48.122202</td>\n",
       "      <td>-1.632854</td>\n",
       "      <td>Rennes</td>\n",
       "      <td>2020-01-04</td>\n",
       "      <td>Perishable</td>\n",
       "      <td>8</td>\n",
       "      <td>1405</td>\n",
       "    </tr>\n",
       "    <tr>\n",
       "      <th>4</th>\n",
       "      <td>A105</td>\n",
       "      <td>48.132581</td>\n",
       "      <td>-1.658611</td>\n",
       "      <td>Rennes</td>\n",
       "      <td>2020-01-05</td>\n",
       "      <td>Perishable</td>\n",
       "      <td>9</td>\n",
       "      <td>1405</td>\n",
       "    </tr>\n",
       "  </tbody>\n",
       "</table>\n",
       "</div>"
      ],
      "text/plain": [
       "  Customer_ID   Latitude  Longitude    City date_of_delivery(dd/mm/yyyy)  \\\n",
       "0        A101  48.115334  -1.676348  Rennes                   2020-01-01   \n",
       "1        A102  48.088967  -1.660292  Rennes                   2020-01-02   \n",
       "2        A103  47.216827  -1.557359  Rennes                   2020-01-03   \n",
       "3        A104  48.122202  -1.632854  Rennes                   2020-01-04   \n",
       "4        A105  48.132581  -1.658611  Rennes                   2020-01-05   \n",
       "\n",
       "  Type_of_Product  Quantity  Time_of_Delivery(hrs)  \n",
       "0      Perishable         5                   1405  \n",
       "1      Perishable         6                   1405  \n",
       "2      Perishable         7                   1405  \n",
       "3      Perishable         8                   1405  \n",
       "4      Perishable         9                   1405  "
      ]
     },
     "execution_count": 193,
     "metadata": {},
     "output_type": "execute_result"
    }
   ],
   "source": [
    "data.head()"
   ]
  },
  {
   "cell_type": "code",
   "execution_count": 194,
   "metadata": {},
   "outputs": [
    {
     "name": "stdout",
     "output_type": "stream",
     "text": [
      "The shape of the dataset (rows,colums) is (20008, 8)\n"
     ]
    }
   ],
   "source": [
    "# Shape of the datset\n",
    "print(\"The shape of the dataset (rows,colums) is\",data.shape)"
   ]
  },
  {
   "cell_type": "code",
   "execution_count": null,
   "metadata": {},
   "outputs": [],
   "source": []
  },
  {
   "cell_type": "code",
   "execution_count": 195,
   "metadata": {},
   "outputs": [
    {
     "data": {
      "text/plain": [
       "Customer_ID                             object\n",
       "Latitude                               float64\n",
       "Longitude                              float64\n",
       "City                                    object\n",
       "date_of_delivery(dd/mm/yyyy)    datetime64[ns]\n",
       "Type_of_Product                         object\n",
       "Quantity                                 int64\n",
       "Time_of_Delivery(hrs)                    int64\n",
       "dtype: object"
      ]
     },
     "execution_count": 195,
     "metadata": {},
     "output_type": "execute_result"
    }
   ],
   "source": [
    "# Datatypes of each column in the dataset\n",
    "data.dtypes"
   ]
  },
  {
   "cell_type": "markdown",
   "metadata": {},
   "source": [
    "#### Converting into categorical types"
   ]
  },
  {
   "cell_type": "code",
   "execution_count": 196,
   "metadata": {},
   "outputs": [],
   "source": [
    "data['Customer_ID'] = data['Customer_ID'].astype('category')"
   ]
  },
  {
   "cell_type": "code",
   "execution_count": 197,
   "metadata": {},
   "outputs": [],
   "source": [
    "data['Type_of_Product'] = data['Type_of_Product'].astype('category')"
   ]
  },
  {
   "cell_type": "code",
   "execution_count": 198,
   "metadata": {},
   "outputs": [
    {
     "name": "stdout",
     "output_type": "stream",
     "text": [
      "The count of Type of Product\n"
     ]
    },
    {
     "data": {
      "text/plain": [
       "Non-Perishable    10192\n",
       "Perishable         9816\n",
       "Name: Type_of_Product, dtype: int64"
      ]
     },
     "execution_count": 198,
     "metadata": {},
     "output_type": "execute_result"
    }
   ],
   "source": [
    "print(\"The count of Type of Product\")\n",
    "data['Type_of_Product'].value_counts()"
   ]
  },
  {
   "cell_type": "code",
   "execution_count": 199,
   "metadata": {},
   "outputs": [],
   "source": [
    "np = data[data['Type_of_Product'] == 'Non-Perishable'].shape[0]"
   ]
  },
  {
   "cell_type": "code",
   "execution_count": 200,
   "metadata": {},
   "outputs": [],
   "source": [
    "p = data[data['Type_of_Product'] == 'Perishable'].shape[0]"
   ]
  },
  {
   "cell_type": "code",
   "execution_count": 201,
   "metadata": {},
   "outputs": [
    {
     "data": {
      "text/plain": [
       "Text(0, 0.5, 'Count')"
      ]
     },
     "execution_count": 201,
     "metadata": {},
     "output_type": "execute_result"
    },
    {
     "data": {
      "image/png": "[encoded data removed]",
      "text/plain": [
       "<Figure size 432x288 with 1 Axes>"
      ]
     },
     "metadata": {
      "needs_background": "light"
     },
     "output_type": "display_data"
    }
   ],
   "source": [
    "plt.bar(['np','p'],(np,p),width = 0.4,tick_label = ['Non-Perishable','Perishable'],color= ['blue','green'])\n",
    "plt.ylabel(\"Count\")"
   ]
  },
  {
   "cell_type": "code",
   "execution_count": 202,
   "metadata": {},
   "outputs": [
    {
     "name": "stdout",
     "output_type": "stream",
     "text": [
      "The number of unique Customer are 50\n"
     ]
    }
   ],
   "source": [
    "print(\"The number of unique Customer are\",len(data['Customer_ID'].unique()))"
   ]
  },
  {
   "cell_type": "code",
   "execution_count": 203,
   "metadata": {},
   "outputs": [
    {
     "name": "stdout",
     "output_type": "stream",
     "text": [
      "The duration of delivery(Working hours for the delivery executive) is 8.0 hrs\n"
     ]
    }
   ],
   "source": [
    "print(\"The duration of delivery(Working hours for the delivery executive) is\",\n",
    "     str((max(data['Time_of_Delivery(hrs)']) - min(data['Time_of_Delivery(hrs)']))/100)+\" hrs\")\n"
   ]
  },
  {
   "cell_type": "code",
   "execution_count": 204,
   "metadata": {},
   "outputs": [
    {
     "name": "stdout",
     "output_type": "stream",
     "text": [
      "-----------------------------------------------------------------------------\n",
      "In the dataset, the delivery starts at 900am and ends at 1700pm\n",
      "-----------------------------------------------------------------------------\n",
      "The duration of delivery(Working hours for the delivery executive) is 8.0 hrs\n"
     ]
    }
   ],
   "source": [
    "print(\"-----------------------------------------------------------------------------\")\n",
    "print(\"In the dataset, the delivery starts at\",str(min(data['Time_of_Delivery(hrs)'])) + \"am \"\n",
    "     +\"and ends at\",str(max(data['Time_of_Delivery(hrs)'])) + \"pm\")\n",
    "print(\"-----------------------------------------------------------------------------\")\n",
    "print(\"The duration of delivery(Working hours for the delivery executive) is\",\n",
    "     str((max(data['Time_of_Delivery(hrs)']) - min(data['Time_of_Delivery(hrs)']))/100)+\" hrs\")"
   ]
  },
  {
   "cell_type": "code",
   "execution_count": null,
   "metadata": {},
   "outputs": [],
   "source": []
  },
  {
   "cell_type": "code",
   "execution_count": 205,
   "metadata": {},
   "outputs": [],
   "source": [
    "check = pd.DataFrame(data['Time_of_Delivery(hrs)'].value_counts())"
   ]
  },
  {
   "cell_type": "code",
   "execution_count": 206,
   "metadata": {},
   "outputs": [
    {
     "data": {
      "text/html": [
       "<div>\n",
       "<style scoped>\n",
       "    .dataframe tbody tr th:only-of-type {\n",
       "        vertical-align: middle;\n",
       "    }\n",
       "\n",
       "    .dataframe tbody tr th {\n",
       "        vertical-align: top;\n",
       "    }\n",
       "\n",
       "    .dataframe thead th {\n",
       "        text-align: right;\n",
       "    }\n",
       "</style>\n",
       "<table border=\"1\" class=\"dataframe\">\n",
       "  <thead>\n",
       "    <tr style=\"text-align: right;\">\n",
       "      <th></th>\n",
       "      <th>Time_of_Delivery(hrs)</th>\n",
       "    </tr>\n",
       "  </thead>\n",
       "  <tbody>\n",
       "    <tr>\n",
       "      <th>1559</th>\n",
       "      <td>118</td>\n",
       "    </tr>\n",
       "    <tr>\n",
       "      <th>1125</th>\n",
       "      <td>117</td>\n",
       "    </tr>\n",
       "    <tr>\n",
       "      <th>1653</th>\n",
       "      <td>117</td>\n",
       "    </tr>\n",
       "    <tr>\n",
       "      <th>1541</th>\n",
       "      <td>117</td>\n",
       "    </tr>\n",
       "    <tr>\n",
       "      <th>1509</th>\n",
       "      <td>117</td>\n",
       "    </tr>\n",
       "    <tr>\n",
       "      <th>...</th>\n",
       "      <td>...</td>\n",
       "    </tr>\n",
       "    <tr>\n",
       "      <th>938</th>\n",
       "      <td>117</td>\n",
       "    </tr>\n",
       "    <tr>\n",
       "      <th>922</th>\n",
       "      <td>117</td>\n",
       "    </tr>\n",
       "    <tr>\n",
       "      <th>906</th>\n",
       "      <td>117</td>\n",
       "    </tr>\n",
       "    <tr>\n",
       "      <th>1657</th>\n",
       "      <td>117</td>\n",
       "    </tr>\n",
       "    <tr>\n",
       "      <th>912</th>\n",
       "      <td>117</td>\n",
       "    </tr>\n",
       "  </tbody>\n",
       "</table>\n",
       "<p>171 rows × 1 columns</p>\n",
       "</div>"
      ],
      "text/plain": [
       "      Time_of_Delivery(hrs)\n",
       "1559                    118\n",
       "1125                    117\n",
       "1653                    117\n",
       "1541                    117\n",
       "1509                    117\n",
       "...                     ...\n",
       "938                     117\n",
       "922                     117\n",
       "906                     117\n",
       "1657                    117\n",
       "912                     117\n",
       "\n",
       "[171 rows x 1 columns]"
      ]
     },
     "execution_count": 206,
     "metadata": {},
     "output_type": "execute_result"
    }
   ],
   "source": [
    "check"
   ]
  },
  {
   "cell_type": "markdown",
   "metadata": {},
   "source": [
    "#### Checking for NULL values"
   ]
  },
  {
   "cell_type": "code",
   "execution_count": 207,
   "metadata": {},
   "outputs": [
    {
     "data": {
      "text/plain": [
       "Customer_ID                     0\n",
       "Latitude                        0\n",
       "Longitude                       0\n",
       "City                            0\n",
       "date_of_delivery(dd/mm/yyyy)    0\n",
       "Type_of_Product                 0\n",
       "Quantity                        0\n",
       "Time_of_Delivery(hrs)           0\n",
       "dtype: int64"
      ]
     },
     "execution_count": 207,
     "metadata": {},
     "output_type": "execute_result"
    }
   ],
   "source": [
    "data.isnull().sum()"
   ]
  },
  {
   "cell_type": "markdown",
   "metadata": {},
   "source": [
    "#### Deriving new features using the date_of_delivery column"
   ]
  },
  {
   "cell_type": "code",
   "execution_count": 208,
   "metadata": {},
   "outputs": [],
   "source": [
    "data[\"Year\"] = data[\"date_of_delivery(dd/mm/yyyy)\"].dt.year"
   ]
  },
  {
   "cell_type": "code",
   "execution_count": 209,
   "metadata": {},
   "outputs": [],
   "source": [
    "\n",
    "data[\"Month\"] = data[\"date_of_delivery(dd/mm/yyyy)\"].dt.month"
   ]
  },
  {
   "cell_type": "code",
   "execution_count": 210,
   "metadata": {},
   "outputs": [],
   "source": [
    "data[\"Day\"] = data[\"date_of_delivery(dd/mm/yyyy)\"].dt.day"
   ]
  },
  {
   "cell_type": "code",
   "execution_count": null,
   "metadata": {},
   "outputs": [],
   "source": []
  },
  {
   "cell_type": "markdown",
   "metadata": {},
   "source": [
    "#### Dropping unnecessary columns"
   ]
  },
  {
   "cell_type": "code",
   "execution_count": 211,
   "metadata": {},
   "outputs": [
    {
     "data": {
      "text/plain": [
       "Index(['Customer_ID', 'Latitude', 'Longitude', 'City',\n",
       "       'date_of_delivery(dd/mm/yyyy)', 'Type_of_Product', 'Quantity',\n",
       "       'Time_of_Delivery(hrs)', 'Year', 'Month', 'Day'],\n",
       "      dtype='object')"
      ]
     },
     "execution_count": 211,
     "metadata": {},
     "output_type": "execute_result"
    }
   ],
   "source": [
    "data.columns"
   ]
  },
  {
   "cell_type": "code",
   "execution_count": 212,
   "metadata": {},
   "outputs": [],
   "source": [
    "data = data.drop(['date_of_delivery(dd/mm/yyyy)','City','Customer_ID'],axis = 1)"
   ]
  },
  {
   "cell_type": "code",
   "execution_count": 213,
   "metadata": {},
   "outputs": [
    {
     "data": {
      "text/plain": [
       "Index(['Latitude', 'Longitude', 'Type_of_Product', 'Quantity',\n",
       "       'Time_of_Delivery(hrs)', 'Year', 'Month', 'Day'],\n",
       "      dtype='object')"
      ]
     },
     "execution_count": 213,
     "metadata": {},
     "output_type": "execute_result"
    }
   ],
   "source": [
    "data.columns"
   ]
  },
  {
   "cell_type": "code",
   "execution_count": 214,
   "metadata": {},
   "outputs": [
    {
     "data": {
      "text/plain": [
       "Latitude                  float64\n",
       "Longitude                 float64\n",
       "Type_of_Product          category\n",
       "Quantity                    int64\n",
       "Time_of_Delivery(hrs)       int64\n",
       "Year                        int64\n",
       "Month                       int64\n",
       "Day                         int64\n",
       "dtype: object"
      ]
     },
     "execution_count": 214,
     "metadata": {},
     "output_type": "execute_result"
    }
   ],
   "source": [
    "data.dtypes"
   ]
  },
  {
   "cell_type": "markdown",
   "metadata": {},
   "source": [
    "#### Dummifying categorical variables"
   ]
  },
  {
   "cell_type": "code",
   "execution_count": 215,
   "metadata": {},
   "outputs": [],
   "source": [
    "data1 = pd.get_dummies(data,drop_first = True)"
   ]
  },
  {
   "cell_type": "code",
   "execution_count": 216,
   "metadata": {},
   "outputs": [
    {
     "data": {
      "text/plain": [
       "Index(['Latitude', 'Longitude', 'Quantity', 'Time_of_Delivery(hrs)', 'Year',\n",
       "       'Month', 'Day', 'Type_of_Product_Perishable'],\n",
       "      dtype='object')"
      ]
     },
     "execution_count": 216,
     "metadata": {},
     "output_type": "execute_result"
    }
   ],
   "source": [
    "data1.columns"
   ]
  },
  {
   "cell_type": "code",
   "execution_count": 217,
   "metadata": {},
   "outputs": [
    {
     "data": {
      "text/html": [
       "<div>\n",
       "<style scoped>\n",
       "    .dataframe tbody tr th:only-of-type {\n",
       "        vertical-align: middle;\n",
       "    }\n",
       "\n",
       "    .dataframe tbody tr th {\n",
       "        vertical-align: top;\n",
       "    }\n",
       "\n",
       "    .dataframe thead th {\n",
       "        text-align: right;\n",
       "    }\n",
       "</style>\n",
       "<table border=\"1\" class=\"dataframe\">\n",
       "  <thead>\n",
       "    <tr style=\"text-align: right;\">\n",
       "      <th></th>\n",
       "      <th>Latitude</th>\n",
       "      <th>Longitude</th>\n",
       "      <th>Quantity</th>\n",
       "      <th>Time_of_Delivery(hrs)</th>\n",
       "      <th>Year</th>\n",
       "      <th>Month</th>\n",
       "      <th>Day</th>\n",
       "      <th>Type_of_Product_Perishable</th>\n",
       "    </tr>\n",
       "  </thead>\n",
       "  <tbody>\n",
       "    <tr>\n",
       "      <th>0</th>\n",
       "      <td>48.115334</td>\n",
       "      <td>-1.676348</td>\n",
       "      <td>5</td>\n",
       "      <td>1405</td>\n",
       "      <td>2020</td>\n",
       "      <td>1</td>\n",
       "      <td>1</td>\n",
       "      <td>1</td>\n",
       "    </tr>\n",
       "    <tr>\n",
       "      <th>1</th>\n",
       "      <td>48.088967</td>\n",
       "      <td>-1.660292</td>\n",
       "      <td>6</td>\n",
       "      <td>1405</td>\n",
       "      <td>2020</td>\n",
       "      <td>1</td>\n",
       "      <td>2</td>\n",
       "      <td>1</td>\n",
       "    </tr>\n",
       "    <tr>\n",
       "      <th>2</th>\n",
       "      <td>47.216827</td>\n",
       "      <td>-1.557359</td>\n",
       "      <td>7</td>\n",
       "      <td>1405</td>\n",
       "      <td>2020</td>\n",
       "      <td>1</td>\n",
       "      <td>3</td>\n",
       "      <td>1</td>\n",
       "    </tr>\n",
       "    <tr>\n",
       "      <th>3</th>\n",
       "      <td>48.122202</td>\n",
       "      <td>-1.632854</td>\n",
       "      <td>8</td>\n",
       "      <td>1405</td>\n",
       "      <td>2020</td>\n",
       "      <td>1</td>\n",
       "      <td>4</td>\n",
       "      <td>1</td>\n",
       "    </tr>\n",
       "    <tr>\n",
       "      <th>4</th>\n",
       "      <td>48.132581</td>\n",
       "      <td>-1.658611</td>\n",
       "      <td>9</td>\n",
       "      <td>1405</td>\n",
       "      <td>2020</td>\n",
       "      <td>1</td>\n",
       "      <td>5</td>\n",
       "      <td>1</td>\n",
       "    </tr>\n",
       "  </tbody>\n",
       "</table>\n",
       "</div>"
      ],
      "text/plain": [
       "    Latitude  Longitude  Quantity  Time_of_Delivery(hrs)  Year  Month  Day  \\\n",
       "0  48.115334  -1.676348         5                   1405  2020      1    1   \n",
       "1  48.088967  -1.660292         6                   1405  2020      1    2   \n",
       "2  47.216827  -1.557359         7                   1405  2020      1    3   \n",
       "3  48.122202  -1.632854         8                   1405  2020      1    4   \n",
       "4  48.132581  -1.658611         9                   1405  2020      1    5   \n",
       "\n",
       "   Type_of_Product_Perishable  \n",
       "0                           1  \n",
       "1                           1  \n",
       "2                           1  \n",
       "3                           1  \n",
       "4                           1  "
      ]
     },
     "execution_count": 217,
     "metadata": {},
     "output_type": "execute_result"
    }
   ],
   "source": [
    "data1.head()"
   ]
  },
  {
   "cell_type": "markdown",
   "metadata": {},
   "source": [
    "#### Checking for the correlation between the numerical variables"
   ]
  },
  {
   "cell_type": "code",
   "execution_count": 218,
   "metadata": {},
   "outputs": [
    {
     "data": {
      "text/plain": [
       "Index(['Latitude', 'Longitude', 'Quantity', 'Time_of_Delivery(hrs)', 'Year',\n",
       "       'Month', 'Day'],\n",
       "      dtype='object')"
      ]
     },
     "execution_count": 218,
     "metadata": {},
     "output_type": "execute_result"
    }
   ],
   "source": [
    "num_attr = data1.select_dtypes(include=['int64', 'float64']).columns\n",
    "num_attr"
   ]
  },
  {
   "cell_type": "code",
   "execution_count": 219,
   "metadata": {},
   "outputs": [
    {
     "data": {
      "text/html": [
       "<div>\n",
       "<style scoped>\n",
       "    .dataframe tbody tr th:only-of-type {\n",
       "        vertical-align: middle;\n",
       "    }\n",
       "\n",
       "    .dataframe tbody tr th {\n",
       "        vertical-align: top;\n",
       "    }\n",
       "\n",
       "    .dataframe thead th {\n",
       "        text-align: right;\n",
       "    }\n",
       "</style>\n",
       "<table border=\"1\" class=\"dataframe\">\n",
       "  <thead>\n",
       "    <tr style=\"text-align: right;\">\n",
       "      <th></th>\n",
       "      <th>Latitude</th>\n",
       "      <th>Longitude</th>\n",
       "      <th>Quantity</th>\n",
       "      <th>Time_of_Delivery(hrs)</th>\n",
       "      <th>Year</th>\n",
       "      <th>Month</th>\n",
       "      <th>Day</th>\n",
       "    </tr>\n",
       "  </thead>\n",
       "  <tbody>\n",
       "    <tr>\n",
       "      <th>Latitude</th>\n",
       "      <td>1.000000</td>\n",
       "      <td>-0.468416</td>\n",
       "      <td>0.000036</td>\n",
       "      <td>0.000622</td>\n",
       "      <td>0.007173</td>\n",
       "      <td>0.003994</td>\n",
       "      <td>0.004467</td>\n",
       "    </tr>\n",
       "    <tr>\n",
       "      <th>Longitude</th>\n",
       "      <td>-0.468416</td>\n",
       "      <td>1.000000</td>\n",
       "      <td>-0.011871</td>\n",
       "      <td>-0.000390</td>\n",
       "      <td>0.006844</td>\n",
       "      <td>0.000118</td>\n",
       "      <td>-0.008268</td>\n",
       "    </tr>\n",
       "    <tr>\n",
       "      <th>Quantity</th>\n",
       "      <td>0.000036</td>\n",
       "      <td>-0.011871</td>\n",
       "      <td>1.000000</td>\n",
       "      <td>-0.004105</td>\n",
       "      <td>-0.007031</td>\n",
       "      <td>0.024958</td>\n",
       "      <td>-0.002659</td>\n",
       "    </tr>\n",
       "    <tr>\n",
       "      <th>Time_of_Delivery(hrs)</th>\n",
       "      <td>0.000622</td>\n",
       "      <td>-0.000390</td>\n",
       "      <td>-0.004105</td>\n",
       "      <td>1.000000</td>\n",
       "      <td>-0.009329</td>\n",
       "      <td>0.001178</td>\n",
       "      <td>-0.003098</td>\n",
       "    </tr>\n",
       "    <tr>\n",
       "      <th>Year</th>\n",
       "      <td>0.007173</td>\n",
       "      <td>0.006844</td>\n",
       "      <td>-0.007031</td>\n",
       "      <td>-0.009329</td>\n",
       "      <td>1.000000</td>\n",
       "      <td>-0.481357</td>\n",
       "      <td>-0.054671</td>\n",
       "    </tr>\n",
       "    <tr>\n",
       "      <th>Month</th>\n",
       "      <td>0.003994</td>\n",
       "      <td>0.000118</td>\n",
       "      <td>0.024958</td>\n",
       "      <td>0.001178</td>\n",
       "      <td>-0.481357</td>\n",
       "      <td>1.000000</td>\n",
       "      <td>0.012972</td>\n",
       "    </tr>\n",
       "    <tr>\n",
       "      <th>Day</th>\n",
       "      <td>0.004467</td>\n",
       "      <td>-0.008268</td>\n",
       "      <td>-0.002659</td>\n",
       "      <td>-0.003098</td>\n",
       "      <td>-0.054671</td>\n",
       "      <td>0.012972</td>\n",
       "      <td>1.000000</td>\n",
       "    </tr>\n",
       "  </tbody>\n",
       "</table>\n",
       "</div>"
      ],
      "text/plain": [
       "                       Latitude  Longitude  Quantity  Time_of_Delivery(hrs)  \\\n",
       "Latitude               1.000000  -0.468416  0.000036               0.000622   \n",
       "Longitude             -0.468416   1.000000 -0.011871              -0.000390   \n",
       "Quantity               0.000036  -0.011871  1.000000              -0.004105   \n",
       "Time_of_Delivery(hrs)  0.000622  -0.000390 -0.004105               1.000000   \n",
       "Year                   0.007173   0.006844 -0.007031              -0.009329   \n",
       "Month                  0.003994   0.000118  0.024958               0.001178   \n",
       "Day                    0.004467  -0.008268 -0.002659              -0.003098   \n",
       "\n",
       "                           Year     Month       Day  \n",
       "Latitude               0.007173  0.003994  0.004467  \n",
       "Longitude              0.006844  0.000118 -0.008268  \n",
       "Quantity              -0.007031  0.024958 -0.002659  \n",
       "Time_of_Delivery(hrs) -0.009329  0.001178 -0.003098  \n",
       "Year                   1.000000 -0.481357 -0.054671  \n",
       "Month                 -0.481357  1.000000  0.012972  \n",
       "Day                   -0.054671  0.012972  1.000000  "
      ]
     },
     "execution_count": 219,
     "metadata": {},
     "output_type": "execute_result"
    }
   ],
   "source": [
    "data1[num_attr].corr()"
   ]
  },
  {
   "cell_type": "code",
   "execution_count": 220,
   "metadata": {},
   "outputs": [
    {
     "data": {
      "image/png": "[encoded data removed]",
      "text/plain": [
       "<Figure size 1152x1152 with 2 Axes>"
      ]
     },
     "metadata": {
      "needs_background": "light"
     },
     "output_type": "display_data"
    },
    {
     "name": "stdout",
     "output_type": "stream",
     "text": [
      "Note :-A correlation of 0 means that no relationship exists between the two variables, whereas a correlation of 1 indicates a perfect positive relationship.\n"
     ]
    }
   ],
   "source": [
    "plt.figure(figsize=(16,16))\n",
    "sns.heatmap(data.corr())\n",
    "plt.show()\n",
    "\n",
    "print(\"Note :-A correlation of 0 means that no relationship exists between the two variables, whereas a correlation of 1 indicates a perfect positive relationship.\")"
   ]
  },
  {
   "cell_type": "markdown",
   "metadata": {},
   "source": [
    "#### Splitting the dataset into train and test"
   ]
  },
  {
   "cell_type": "code",
   "execution_count": 221,
   "metadata": {},
   "outputs": [],
   "source": [
    "X = data1.copy()"
   ]
  },
  {
   "cell_type": "code",
   "execution_count": 222,
   "metadata": {},
   "outputs": [
    {
     "data": {
      "text/plain": [
       "Index(['Latitude', 'Longitude', 'Quantity', 'Time_of_Delivery(hrs)', 'Year',\n",
       "       'Month', 'Day', 'Type_of_Product_Perishable'],\n",
       "      dtype='object')"
      ]
     },
     "execution_count": 222,
     "metadata": {},
     "output_type": "execute_result"
    }
   ],
   "source": [
    "X.columns"
   ]
  },
  {
   "cell_type": "code",
   "execution_count": 223,
   "metadata": {},
   "outputs": [],
   "source": [
    "X = X.drop(['Time_of_Delivery(hrs)'],axis = 1)"
   ]
  },
  {
   "cell_type": "code",
   "execution_count": 224,
   "metadata": {},
   "outputs": [
    {
     "data": {
      "text/plain": [
       "Index(['Latitude', 'Longitude', 'Quantity', 'Year', 'Month', 'Day',\n",
       "       'Type_of_Product_Perishable'],\n",
       "      dtype='object')"
      ]
     },
     "execution_count": 224,
     "metadata": {},
     "output_type": "execute_result"
    }
   ],
   "source": [
    "X.columns"
   ]
  },
  {
   "cell_type": "code",
   "execution_count": 225,
   "metadata": {},
   "outputs": [],
   "source": [
    "y = data1['Time_of_Delivery(hrs)']"
   ]
  },
  {
   "cell_type": "code",
   "execution_count": 226,
   "metadata": {},
   "outputs": [],
   "source": [
    "X_train, X_test, y_train, y_test = train_test_split(X, y, test_size=0.2, random_state=111)"
   ]
  },
  {
   "cell_type": "markdown",
   "metadata": {},
   "source": [
    "#### Standardizing the dataset"
   ]
  },
  {
   "cell_type": "code",
   "execution_count": 227,
   "metadata": {},
   "outputs": [
    {
     "data": {
      "text/plain": [
       "StandardScaler(copy=True, with_mean=True, with_std=True)"
      ]
     },
     "execution_count": 227,
     "metadata": {},
     "output_type": "execute_result"
    }
   ],
   "source": [
    "scale = StandardScaler()\n",
    "scale.fit(X_train)"
   ]
  },
  {
   "cell_type": "code",
   "execution_count": 228,
   "metadata": {},
   "outputs": [],
   "source": [
    "X_train_std = scale.transform(X_train)\n",
    "X_test_std = scale.transform(X_test)"
   ]
  },
  {
   "cell_type": "markdown",
   "metadata": {},
   "source": [
    "### Feeding the dataset to various algorithms"
   ]
  },
  {
   "cell_type": "markdown",
   "metadata": {},
   "source": [
    "#### Linear Regression"
   ]
  },
  {
   "cell_type": "code",
   "execution_count": 229,
   "metadata": {},
   "outputs": [],
   "source": [
    "linreg = LinearRegression() "
   ]
  },
  {
   "cell_type": "code",
   "execution_count": 230,
   "metadata": {},
   "outputs": [
    {
     "data": {
      "text/plain": [
       "LinearRegression(copy_X=True, fit_intercept=True, n_jobs=None, normalize=False)"
      ]
     },
     "execution_count": 230,
     "metadata": {},
     "output_type": "execute_result"
    }
   ],
   "source": [
    "linreg.fit(X_train_std, y_train)"
   ]
  },
  {
   "cell_type": "code",
   "execution_count": 231,
   "metadata": {},
   "outputs": [
    {
     "name": "stdout",
     "output_type": "stream",
     "text": [
      "The coefficients are [-0.89358083 -0.7416271  -1.66871724 -4.27159284 -2.29703046  0.36926686\n",
      " -2.30468387]\n",
      "The intercept is:  1210.6380107459702\n"
     ]
    }
   ],
   "source": [
    "print (\"The coefficients are\", linreg.coef_)\n",
    "print (\"The intercept is: \", linreg.intercept_)"
   ]
  },
  {
   "cell_type": "code",
   "execution_count": 237,
   "metadata": {},
   "outputs": [],
   "source": [
    "train_pred_linear = linreg.predict(X_train_std)\n",
    "test_pred_linear = linreg.predict(X_test_std)"
   ]
  },
  {
   "cell_type": "code",
   "execution_count": 280,
   "metadata": {},
   "outputs": [],
   "source": [
    "from sklearn.metrics import mean_absolute_error\n",
    "import math"
   ]
  },
  {
   "cell_type": "code",
   "execution_count": 285,
   "metadata": {},
   "outputs": [],
   "source": [
    "mae_linear = mean_absolute_error(y_test,test_pred_linear)"
   ]
  },
  {
   "cell_type": "code",
   "execution_count": 286,
   "metadata": {},
   "outputs": [],
   "source": [
    "mse_linear = mean_squared_error(y_test,test_pred_linear)"
   ]
  },
  {
   "cell_type": "code",
   "execution_count": 287,
   "metadata": {},
   "outputs": [],
   "source": [
    "rmse_linear = math.sqrt(mean_squared_error(y_test,test_pred_linear))"
   ]
  },
  {
   "cell_type": "code",
   "execution_count": 297,
   "metadata": {},
   "outputs": [],
   "source": [
    "r2_linear = r2_score(y_pred=test_pred_linear, y_true=y_test)\n",
    "n = len(y_test)\n",
    "p = X_test_std.shape[1]\n",
    "adj_r_linear = 1 - ((1 - r2_linear) * (n - 1)) / (n - p - 1)"
   ]
  },
  {
   "cell_type": "code",
   "execution_count": 298,
   "metadata": {},
   "outputs": [
    {
     "name": "stdout",
     "output_type": "stream",
     "text": [
      "For Linear Regression:\n",
      "Mean Absolute Error is 116.6067516851696\n",
      "Mean Squared Error is 34314.954300047444\n",
      "Root Mean Squared Error is 185.24296019025243\n",
      "Adjusted R2 value is 0.1180897900512945\n"
     ]
    }
   ],
   "source": [
    "print(\"For Linear Regression:\")\n",
    "print(\"Mean Absolute Error is\",mae_linear)\n",
    "print(\"Mean Squared Error is\",mse_linear)\n",
    "print(\"Root Mean Squared Error is\",math.sqrt(mse_linear))\n",
    "print(\"Adjusted R2 value is\",adj_r_linear)"
   ]
  },
  {
   "cell_type": "markdown",
   "metadata": {},
   "source": [
    "#### Decision Tree Regressor"
   ]
  },
  {
   "cell_type": "code",
   "execution_count": 40,
   "metadata": {},
   "outputs": [],
   "source": [
    "from sklearn.tree import DecisionTreeRegressor"
   ]
  },
  {
   "cell_type": "code",
   "execution_count": 41,
   "metadata": {},
   "outputs": [],
   "source": [
    "regr_1 = DecisionTreeRegressor(max_depth = 15)"
   ]
  },
  {
   "cell_type": "code",
   "execution_count": 42,
   "metadata": {},
   "outputs": [
    {
     "data": {
      "text/plain": [
       "DecisionTreeRegressor(ccp_alpha=0.0, criterion='mse', max_depth=15,\n",
       "                      max_features=None, max_leaf_nodes=None,\n",
       "                      min_impurity_decrease=0.0, min_impurity_split=None,\n",
       "                      min_samples_leaf=1, min_samples_split=2,\n",
       "                      min_weight_fraction_leaf=0.0, presort='deprecated',\n",
       "                      random_state=None, splitter='best')"
      ]
     },
     "execution_count": 42,
     "metadata": {},
     "output_type": "execute_result"
    }
   ],
   "source": [
    "regr_1.fit(X_train_std, y_train)"
   ]
  },
  {
   "cell_type": "code",
   "execution_count": 43,
   "metadata": {},
   "outputs": [],
   "source": [
    "train_pred_DT = regr_1.predict(X_train_std)\n",
    "test_pred_DT = regr_1.predict(X_test_std)"
   ]
  },
  {
   "cell_type": "code",
   "execution_count": null,
   "metadata": {},
   "outputs": [],
   "source": []
  },
  {
   "cell_type": "code",
   "execution_count": 292,
   "metadata": {},
   "outputs": [],
   "source": [
    "mae_DT = mean_absolute_error(y_test,test_pred_DT)"
   ]
  },
  {
   "cell_type": "code",
   "execution_count": 293,
   "metadata": {},
   "outputs": [],
   "source": [
    "mse_DT = mean_squared_error(y_test,test_pred_DT)"
   ]
  },
  {
   "cell_type": "code",
   "execution_count": 294,
   "metadata": {},
   "outputs": [],
   "source": [
    "rmse_DT = math.sqrt(mean_squared_error(y_test,test_pred_DT))"
   ]
  },
  {
   "cell_type": "code",
   "execution_count": 299,
   "metadata": {},
   "outputs": [],
   "source": [
    "r2_DT = r2_score(y_pred=test_pred_DT, y_true=y_test)\n",
    "n = len(y_test)\n",
    "p = X_test_std.shape[1]\n",
    "adj_r_DT = 1 - ((1 - r2_DT) * (n - 1)) / (n - p - 1)"
   ]
  },
  {
   "cell_type": "code",
   "execution_count": 301,
   "metadata": {},
   "outputs": [
    {
     "name": "stdout",
     "output_type": "stream",
     "text": [
      "For Decision Tree Regressor:\n",
      "Mean Absolute Error is 76.90482394329345\n",
      "Mean Squared Error is 31137.620450009683\n",
      "Root Mean Squared Error is 176.4585516488495\n",
      "Adjusted R2 value is 0.2670642648629944\n"
     ]
    }
   ],
   "source": [
    "print(\"For Decision Tree Regressor:\")\n",
    "print(\"Mean Absolute Error is\",mae_DT)\n",
    "print(\"Mean Squared Error is\",mse_DT)\n",
    "print(\"Root Mean Squared Error is\",math.sqrt(mse_DT))\n",
    "print(\"Adjusted R2 value is\",adj_r_DT)"
   ]
  },
  {
   "cell_type": "code",
   "execution_count": null,
   "metadata": {},
   "outputs": [],
   "source": []
  },
  {
   "cell_type": "code",
   "execution_count": null,
   "metadata": {},
   "outputs": [],
   "source": []
  },
  {
   "cell_type": "markdown",
   "metadata": {},
   "source": [
    "#### LASSO Regualrization"
   ]
  },
  {
   "cell_type": "code",
   "execution_count": 47,
   "metadata": {},
   "outputs": [],
   "source": [
    "from sklearn import linear_model"
   ]
  },
  {
   "cell_type": "code",
   "execution_count": 48,
   "metadata": {},
   "outputs": [
    {
     "data": {
      "text/plain": [
       "Lasso(alpha=1, copy_X=True, fit_intercept=True, max_iter=10, normalize=False,\n",
       "      positive=False, precompute=False, random_state=None, selection='cyclic',\n",
       "      tol=0.0001, warm_start=False)"
      ]
     },
     "execution_count": 48,
     "metadata": {},
     "output_type": "execute_result"
    }
   ],
   "source": [
    "lasso_reg = linear_model.Lasso(alpha = 1, max_iter = 10)\n",
    "lasso_reg.fit(X_train_std,y_train)"
   ]
  },
  {
   "cell_type": "code",
   "execution_count": 50,
   "metadata": {},
   "outputs": [],
   "source": [
    "train_pred_lasso = lasso_reg.predict(X_train_std)\n",
    "test_pred_lasso = lasso_reg.predict(X_test_std)"
   ]
  },
  {
   "cell_type": "code",
   "execution_count": 303,
   "metadata": {},
   "outputs": [],
   "source": [
    "mae_lasso = mean_absolute_error(y_test,test_pred_lasso)"
   ]
  },
  {
   "cell_type": "code",
   "execution_count": 304,
   "metadata": {},
   "outputs": [],
   "source": [
    "mse_lasso = mean_squared_error(y_test,test_pred_lasso)"
   ]
  },
  {
   "cell_type": "code",
   "execution_count": 305,
   "metadata": {},
   "outputs": [],
   "source": [
    "rmse_lasso = math.sqrt(mean_squared_error(y_test,test_pred_lasso))"
   ]
  },
  {
   "cell_type": "code",
   "execution_count": 306,
   "metadata": {},
   "outputs": [],
   "source": [
    "r2_lasso = r2_score(y_pred=test_pred_lasso, y_true=y_test)\n",
    "n = len(y_test)\n",
    "p = X_test_std.shape[1]\n",
    "adj_r_lasso = 1 - ((1 - r2_lasso) * (n - 1)) / (n - p - 1)"
   ]
  },
  {
   "cell_type": "code",
   "execution_count": 308,
   "metadata": {},
   "outputs": [
    {
     "name": "stdout",
     "output_type": "stream",
     "text": [
      "For LASSO:\n",
      "Mean Absolute Error is 116.60354391816672\n",
      "Mean Squared Error is 34290.00482859734\n",
      "Root Mean Squared Error is 185.1756053820193\n",
      "Adjusted R2 value is 0.3206391494023242\n"
     ]
    }
   ],
   "source": [
    "print(\"For LASSO:\")\n",
    "print(\"Mean Absolute Error is\",mae_lasso)\n",
    "print(\"Mean Squared Error is\",mse_lasso)\n",
    "print(\"Root Mean Squared Error is\",math.sqrt(mse_lasso))\n",
    "print(\"Adjusted R2 value is\",adj_r_lasso)"
   ]
  },
  {
   "cell_type": "markdown",
   "metadata": {},
   "source": [
    "#### Ridge Regualization"
   ]
  },
  {
   "cell_type": "code",
   "execution_count": 52,
   "metadata": {},
   "outputs": [],
   "source": [
    "from sklearn.linear_model import Ridge"
   ]
  },
  {
   "cell_type": "code",
   "execution_count": 53,
   "metadata": {},
   "outputs": [],
   "source": [
    "ridge = Ridge(alpha=1.0)"
   ]
  },
  {
   "cell_type": "code",
   "execution_count": 54,
   "metadata": {},
   "outputs": [
    {
     "data": {
      "text/plain": [
       "Ridge(alpha=1.0, copy_X=True, fit_intercept=True, max_iter=None,\n",
       "      normalize=False, random_state=None, solver='auto', tol=0.001)"
      ]
     },
     "execution_count": 54,
     "metadata": {},
     "output_type": "execute_result"
    }
   ],
   "source": [
    "ridge.fit(X_train_std,y_train)"
   ]
  },
  {
   "cell_type": "code",
   "execution_count": 260,
   "metadata": {},
   "outputs": [],
   "source": [
    "train_pred_ridge = ridge.predict(X_train_std)\n",
    "test_pred_ridge = ridge.predict(X_test_std)"
   ]
  },
  {
   "cell_type": "code",
   "execution_count": 309,
   "metadata": {},
   "outputs": [],
   "source": [
    "mae_ridge = mean_absolute_error(y_test,test_pred_ridge)"
   ]
  },
  {
   "cell_type": "code",
   "execution_count": 310,
   "metadata": {},
   "outputs": [],
   "source": [
    "mse_ridge = mean_squared_error(y_test,test_pred_ridge)"
   ]
  },
  {
   "cell_type": "code",
   "execution_count": 311,
   "metadata": {},
   "outputs": [],
   "source": [
    "rmse_ridge = math.sqrt(mean_squared_error(y_test,test_pred_ridge))"
   ]
  },
  {
   "cell_type": "code",
   "execution_count": 312,
   "metadata": {},
   "outputs": [],
   "source": [
    "r2_ridge = r2_score(y_pred=test_pred_ridge, y_true=y_test)\n",
    "n = len(y_test)\n",
    "p = X_test_std.shape[1]\n",
    "adj_r_ridge = 1 - ((1 - r2_ridge) * (n - 1)) / (n - p - 1)"
   ]
  },
  {
   "cell_type": "code",
   "execution_count": 313,
   "metadata": {},
   "outputs": [
    {
     "name": "stdout",
     "output_type": "stream",
     "text": [
      "For Ridge:\n",
      "Mean Absolute Error is 116.6067523601773\n",
      "Mean Squared Error is 34314.9500405877\n",
      "Root Mean Squared Error is 185.24294869329762\n",
      "Adjusted R2 value is 0.11808605154155272\n"
     ]
    }
   ],
   "source": [
    "print(\"For Ridge:\")\n",
    "print(\"Mean Absolute Error is\",mae_ridge)\n",
    "print(\"Mean Squared Error is\",mse_ridge)\n",
    "print(\"Root Mean Squared Error is\",math.sqrt(mse_ridge))\n",
    "print(\"Adjusted R2 value is\",adj_r_ridge)"
   ]
  },
  {
   "cell_type": "markdown",
   "metadata": {},
   "source": [
    "#### Random Forest Regressor"
   ]
  },
  {
   "cell_type": "code",
   "execution_count": 57,
   "metadata": {},
   "outputs": [],
   "source": [
    "from sklearn.ensemble import RandomForestRegressor"
   ]
  },
  {
   "cell_type": "code",
   "execution_count": 58,
   "metadata": {},
   "outputs": [],
   "source": [
    "rf = RandomForestRegressor(max_depth = 20)"
   ]
  },
  {
   "cell_type": "code",
   "execution_count": 59,
   "metadata": {},
   "outputs": [
    {
     "data": {
      "text/plain": [
       "RandomForestRegressor(bootstrap=True, ccp_alpha=0.0, criterion='mse',\n",
       "                      max_depth=20, max_features='auto', max_leaf_nodes=None,\n",
       "                      max_samples=None, min_impurity_decrease=0.0,\n",
       "                      min_impurity_split=None, min_samples_leaf=1,\n",
       "                      min_samples_split=2, min_weight_fraction_leaf=0.0,\n",
       "                      n_estimators=100, n_jobs=None, oob_score=False,\n",
       "                      random_state=None, verbose=0, warm_start=False)"
      ]
     },
     "execution_count": 59,
     "metadata": {},
     "output_type": "execute_result"
    }
   ],
   "source": [
    "rf.fit(X_train_std,y_train)"
   ]
  },
  {
   "cell_type": "code",
   "execution_count": 265,
   "metadata": {},
   "outputs": [],
   "source": [
    "train_pred_rf = rf.predict(X_train_std)\n",
    "test_pred_rf = rf.predict(X_test_std)"
   ]
  },
  {
   "cell_type": "code",
   "execution_count": 314,
   "metadata": {},
   "outputs": [],
   "source": [
    "mae_rf = mean_absolute_error(y_test,test_pred_rf)"
   ]
  },
  {
   "cell_type": "code",
   "execution_count": 315,
   "metadata": {},
   "outputs": [],
   "source": [
    "mse_rf = mean_squared_error(y_test,test_pred_rf)"
   ]
  },
  {
   "cell_type": "code",
   "execution_count": 316,
   "metadata": {},
   "outputs": [],
   "source": [
    "rmse_rf = math.sqrt(mean_squared_error(y_test,test_pred_rf))"
   ]
  },
  {
   "cell_type": "code",
   "execution_count": 317,
   "metadata": {},
   "outputs": [],
   "source": [
    "r2_rf = r2_score(y_pred=test_pred_rf, y_true=y_test)\n",
    "n = len(y_test)\n",
    "p = X_test_std.shape[1]\n",
    "adj_r_rf = 1 - ((1 - r2_rf) * (n - 1)) / (n - p - 1)"
   ]
  },
  {
   "cell_type": "code",
   "execution_count": 319,
   "metadata": {},
   "outputs": [
    {
     "name": "stdout",
     "output_type": "stream",
     "text": [
      "For Random Forest Regressor:\n",
      "Mean Absolute Error is 73.11459012703388\n",
      "Mean Squared Error is 17474.24180865707\n",
      "Root Mean Squared Error is 132.19017288988266\n",
      "Adjusted R2 value is 0.7087083852263425\n"
     ]
    }
   ],
   "source": [
    "print(\"For Random Forest Regressor:\")\n",
    "print(\"Mean Absolute Error is\",mae_rf)\n",
    "print(\"Mean Squared Error is\",mse_rf)\n",
    "print(\"Root Mean Squared Error is\",math.sqrt(mse_rf))\n",
    "print(\"Adjusted R2 value is\",adj_r_rf)"
   ]
  },
  {
   "cell_type": "markdown",
   "metadata": {},
   "source": [
    "#### XGB"
   ]
  },
  {
   "cell_type": "code",
   "execution_count": 271,
   "metadata": {},
   "outputs": [],
   "source": [
    "xgb = XGBRegressor(n_estimators=1000, max_depth=7, eta=0.1, subsample=0.7, colsample_bytree=0.8)"
   ]
  },
  {
   "cell_type": "code",
   "execution_count": 272,
   "metadata": {},
   "outputs": [
    {
     "name": "stdout",
     "output_type": "stream",
     "text": [
      "[15:22:27] WARNING: C:/Jenkins/workspace/xgboost-win64_release_0.90/src/objective/regression_obj.cu:152: reg:linear is now deprecated in favor of reg:squarederror.\n"
     ]
    },
    {
     "data": {
      "text/plain": [
       "XGBRegressor(base_score=0.5, booster='gbtree', colsample_bylevel=1,\n",
       "             colsample_bynode=1, colsample_bytree=0.8, eta=0.1, gamma=0,\n",
       "             importance_type='gain', learning_rate=0.1, max_delta_step=0,\n",
       "             max_depth=7, min_child_weight=1, missing=None, n_estimators=1000,\n",
       "             n_jobs=1, nthread=None, objective='reg:linear', random_state=0,\n",
       "             reg_alpha=0, reg_lambda=1, scale_pos_weight=1, seed=None,\n",
       "             silent=None, subsample=0.7, verbosity=1)"
      ]
     },
     "execution_count": 272,
     "metadata": {},
     "output_type": "execute_result"
    }
   ],
   "source": [
    "xgb.fit(X_train_std,y_train)"
   ]
  },
  {
   "cell_type": "code",
   "execution_count": 273,
   "metadata": {},
   "outputs": [],
   "source": [
    "train_pred_xgb = xgb.predict(X_train_std)\n",
    "test_pred_xgb = xgb.predict(X_test_std)"
   ]
  },
  {
   "cell_type": "code",
   "execution_count": 327,
   "metadata": {},
   "outputs": [],
   "source": [
    "mae_xgb = mean_absolute_error(y_test,test_pred_xgb)"
   ]
  },
  {
   "cell_type": "code",
   "execution_count": 328,
   "metadata": {},
   "outputs": [],
   "source": [
    "mse_xgb = mean_squared_error(y_test,test_pred_xgb)"
   ]
  },
  {
   "cell_type": "code",
   "execution_count": 329,
   "metadata": {},
   "outputs": [],
   "source": [
    "rmse_xgb = math.sqrt(mean_squared_error(y_test,test_pred_xgb))"
   ]
  },
  {
   "cell_type": "code",
   "execution_count": 330,
   "metadata": {},
   "outputs": [],
   "source": [
    "r2_xgb = r2_score(y_pred=test_pred_xgb, y_true=y_test)\n",
    "n = len(y_test)\n",
    "p = X_test_std.shape[1]\n",
    "adj_r_xgb = 1 - ((1 - r2_xgb) * (n - 1)) / (n - p - 1)"
   ]
  },
  {
   "cell_type": "code",
   "execution_count": 338,
   "metadata": {},
   "outputs": [
    {
     "name": "stdout",
     "output_type": "stream",
     "text": [
      "For XGB Regressor:\n",
      "Mean Absolute Error is 83.30198532173122\n",
      "Mean Squared Error is 22084.236884602997\n",
      "Root Mean Squared Error is 148.6076609216463\n",
      "Adjusted R2 value is 0.6370055394169948\n"
     ]
    }
   ],
   "source": [
    "print(\"For XGB Regressor:\")\n",
    "print(\"Mean Absolute Error is\",mae_xgb)\n",
    "print(\"Mean Squared Error is\",mse_xgb)\n",
    "print(\"Root Mean Squared Error is\",math.sqrt(mse_xgb))\n",
    "print(\"Adjusted R2 value is\",adj_r_xgb)"
   ]
  }
 ],
 "metadata": {
  "kernelspec": {
   "display_name": "Python 3",
   "language": "python",
   "name": "python3"
  },
  "language_info": {
   "codemirror_mode": {
    "name": "ipython",
    "version": 3
   },
   "file_extension": ".py",
   "mimetype": "text/x-python",
   "name": "python",
   "nbconvert_exporter": "python",
   "pygments_lexer": "ipython3",
   "version": "3.7.3"
  }
 },
 "nbformat": 4,
 "nbformat_minor": 2
}
