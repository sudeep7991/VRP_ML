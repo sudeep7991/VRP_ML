{
 "cells": [
  {
   "cell_type": "markdown",
   "metadata": {},
   "source": [
    "## Predicting Time of Delivery on E-commerce dataset"
   ]
  },
  {
   "cell_type": "markdown",
   "metadata": {},
   "source": [
    "### Importing Necessary Libraries"
   ]
  },
  {
   "cell_type": "code",
   "execution_count": 132,
   "metadata": {},
   "outputs": [],
   "source": [
    "import pandas as pd\n",
    "import numpy as np\n",
    "import matplotlib.pyplot as plt\n",
    "import seaborn as sns"
   ]
  },
  {
   "cell_type": "code",
   "execution_count": 133,
   "metadata": {},
   "outputs": [],
   "source": [
    "from sklearn.model_selection import train_test_split\n",
    "from sklearn.preprocessing import StandardScaler\n",
    "from sklearn.metrics import mean_squared_error, r2_score\n",
    "from sklearn.linear_model import LinearRegression"
   ]
  },
  {
   "cell_type": "markdown",
   "metadata": {},
   "source": [
    "#### Importing the dataset"
   ]
  },
  {
   "cell_type": "code",
   "execution_count": 134,
   "metadata": {},
   "outputs": [],
   "source": [
    "data = pd.read_excel(\"../data_!/new2.1.xlsx\")"
   ]
  },
  {
   "cell_type": "code",
   "execution_count": 135,
   "metadata": {},
   "outputs": [
    {
     "data": {
      "text/html": [
       "<div>\n",
       "<style scoped>\n",
       "    .dataframe tbody tr th:only-of-type {\n",
       "        vertical-align: middle;\n",
       "    }\n",
       "\n",
       "    .dataframe tbody tr th {\n",
       "        vertical-align: top;\n",
       "    }\n",
       "\n",
       "    .dataframe thead th {\n",
       "        text-align: right;\n",
       "    }\n",
       "</style>\n",
       "<table border=\"1\" class=\"dataframe\">\n",
       "  <thead>\n",
       "    <tr style=\"text-align: right;\">\n",
       "      <th></th>\n",
       "      <th>ID</th>\n",
       "      <th>Latitude</th>\n",
       "      <th>Longitude</th>\n",
       "      <th>Gender</th>\n",
       "      <th>Age</th>\n",
       "      <th>Type_of_Product</th>\n",
       "      <th>Weight_Category</th>\n",
       "      <th>No. of Products</th>\n",
       "      <th>Date_of_Delivery</th>\n",
       "      <th>Time_of_Delivery</th>\n",
       "    </tr>\n",
       "  </thead>\n",
       "  <tbody>\n",
       "    <tr>\n",
       "      <th>0</th>\n",
       "      <td>A101</td>\n",
       "      <td>48.115334</td>\n",
       "      <td>-1.676348</td>\n",
       "      <td>Male</td>\n",
       "      <td>18</td>\n",
       "      <td>Grooming</td>\n",
       "      <td>A</td>\n",
       "      <td>3</td>\n",
       "      <td>2020-01-01</td>\n",
       "      <td>1405</td>\n",
       "    </tr>\n",
       "    <tr>\n",
       "      <th>1</th>\n",
       "      <td>A102</td>\n",
       "      <td>48.088967</td>\n",
       "      <td>-1.660292</td>\n",
       "      <td>Male</td>\n",
       "      <td>19</td>\n",
       "      <td>Electronics</td>\n",
       "      <td>A</td>\n",
       "      <td>2</td>\n",
       "      <td>2020-01-02</td>\n",
       "      <td>1405</td>\n",
       "    </tr>\n",
       "    <tr>\n",
       "      <th>2</th>\n",
       "      <td>A103</td>\n",
       "      <td>47.216827</td>\n",
       "      <td>-1.557359</td>\n",
       "      <td>Male</td>\n",
       "      <td>20</td>\n",
       "      <td>Home &amp; Kitchen</td>\n",
       "      <td>A</td>\n",
       "      <td>4</td>\n",
       "      <td>2020-01-03</td>\n",
       "      <td>1405</td>\n",
       "    </tr>\n",
       "    <tr>\n",
       "      <th>3</th>\n",
       "      <td>A104</td>\n",
       "      <td>48.122202</td>\n",
       "      <td>-1.632854</td>\n",
       "      <td>Male</td>\n",
       "      <td>21</td>\n",
       "      <td>Sports</td>\n",
       "      <td>A</td>\n",
       "      <td>2</td>\n",
       "      <td>2020-01-04</td>\n",
       "      <td>1405</td>\n",
       "    </tr>\n",
       "    <tr>\n",
       "      <th>4</th>\n",
       "      <td>A105</td>\n",
       "      <td>48.132581</td>\n",
       "      <td>-1.658611</td>\n",
       "      <td>Male</td>\n",
       "      <td>22</td>\n",
       "      <td>Books</td>\n",
       "      <td>A</td>\n",
       "      <td>3</td>\n",
       "      <td>2020-01-05</td>\n",
       "      <td>1405</td>\n",
       "    </tr>\n",
       "  </tbody>\n",
       "</table>\n",
       "</div>"
      ],
      "text/plain": [
       "     ID   Latitude  Longitude Gender  Age Type_of_Product Weight_Category  \\\n",
       "0  A101  48.115334  -1.676348   Male   18        Grooming               A   \n",
       "1  A102  48.088967  -1.660292   Male   19     Electronics               A   \n",
       "2  A103  47.216827  -1.557359   Male   20  Home & Kitchen               A   \n",
       "3  A104  48.122202  -1.632854   Male   21          Sports               A   \n",
       "4  A105  48.132581  -1.658611   Male   22           Books               A   \n",
       "\n",
       "   No. of Products Date_of_Delivery  Time_of_Delivery  \n",
       "0                3       2020-01-01              1405  \n",
       "1                2       2020-01-02              1405  \n",
       "2                4       2020-01-03              1405  \n",
       "3                2       2020-01-04              1405  \n",
       "4                3       2020-01-05              1405  "
      ]
     },
     "execution_count": 135,
     "metadata": {},
     "output_type": "execute_result"
    }
   ],
   "source": [
    "data.head()"
   ]
  },
  {
   "cell_type": "code",
   "execution_count": 136,
   "metadata": {},
   "outputs": [
    {
     "name": "stdout",
     "output_type": "stream",
     "text": [
      "The shape of the dataset (rows,colums) is (20001, 10)\n"
     ]
    }
   ],
   "source": [
    "# Shape of the datset\n",
    "print(\"The shape of the dataset (rows,colums) is\",data.shape)"
   ]
  },
  {
   "cell_type": "code",
   "execution_count": 137,
   "metadata": {},
   "outputs": [
    {
     "data": {
      "text/plain": [
       "ID                          object\n",
       "Latitude                   float64\n",
       "Longitude                  float64\n",
       "Gender                      object\n",
       "Age                          int64\n",
       "Type_of_Product             object\n",
       "Weight_Category             object\n",
       "No. of Products              int64\n",
       "Date_of_Delivery    datetime64[ns]\n",
       "Time_of_Delivery             int64\n",
       "dtype: object"
      ]
     },
     "execution_count": 137,
     "metadata": {},
     "output_type": "execute_result"
    }
   ],
   "source": [
    "data.dtypes"
   ]
  },
  {
   "cell_type": "markdown",
   "metadata": {},
   "source": [
    "#### Converting into categorical types"
   ]
  },
  {
   "cell_type": "code",
   "execution_count": 138,
   "metadata": {},
   "outputs": [],
   "source": [
    "col_data = ['Gender','Type_of_Product','Weight_Category']"
   ]
  },
  {
   "cell_type": "code",
   "execution_count": 139,
   "metadata": {},
   "outputs": [],
   "source": [
    "for i in col_data:\n",
    "    data[i] = data[i].astype('category')"
   ]
  },
  {
   "cell_type": "code",
   "execution_count": 140,
   "metadata": {},
   "outputs": [
    {
     "data": {
      "text/plain": [
       "ID                          object\n",
       "Latitude                   float64\n",
       "Longitude                  float64\n",
       "Gender                    category\n",
       "Age                          int64\n",
       "Type_of_Product           category\n",
       "Weight_Category           category\n",
       "No. of Products              int64\n",
       "Date_of_Delivery    datetime64[ns]\n",
       "Time_of_Delivery             int64\n",
       "dtype: object"
      ]
     },
     "execution_count": 140,
     "metadata": {},
     "output_type": "execute_result"
    }
   ],
   "source": [
    "data.dtypes"
   ]
  },
  {
   "cell_type": "code",
   "execution_count": 141,
   "metadata": {},
   "outputs": [
    {
     "name": "stdout",
     "output_type": "stream",
     "text": [
      "The number of unique Customer are 50\n"
     ]
    }
   ],
   "source": [
    "print(\"The number of unique Customer are\",len(data['ID'].unique()))"
   ]
  },
  {
   "cell_type": "markdown",
   "metadata": {},
   "source": [
    "#### Deriving new features using the date_of_delivery column"
   ]
  },
  {
   "cell_type": "code",
   "execution_count": 142,
   "metadata": {},
   "outputs": [],
   "source": [
    "data[\"Year\"] = data[\"Date_of_Delivery\"].dt.year"
   ]
  },
  {
   "cell_type": "code",
   "execution_count": 143,
   "metadata": {},
   "outputs": [],
   "source": [
    "data['Month'] = data[\"Date_of_Delivery\"].dt.month"
   ]
  },
  {
   "cell_type": "code",
   "execution_count": 144,
   "metadata": {},
   "outputs": [],
   "source": [
    "data['Day'] = data[\"Date_of_Delivery\"].dt.day"
   ]
  },
  {
   "cell_type": "code",
   "execution_count": 145,
   "metadata": {},
   "outputs": [
    {
     "data": {
      "text/html": [
       "<div>\n",
       "<style scoped>\n",
       "    .dataframe tbody tr th:only-of-type {\n",
       "        vertical-align: middle;\n",
       "    }\n",
       "\n",
       "    .dataframe tbody tr th {\n",
       "        vertical-align: top;\n",
       "    }\n",
       "\n",
       "    .dataframe thead th {\n",
       "        text-align: right;\n",
       "    }\n",
       "</style>\n",
       "<table border=\"1\" class=\"dataframe\">\n",
       "  <thead>\n",
       "    <tr style=\"text-align: right;\">\n",
       "      <th></th>\n",
       "      <th>ID</th>\n",
       "      <th>Latitude</th>\n",
       "      <th>Longitude</th>\n",
       "      <th>Gender</th>\n",
       "      <th>Age</th>\n",
       "      <th>Type_of_Product</th>\n",
       "      <th>Weight_Category</th>\n",
       "      <th>No. of Products</th>\n",
       "      <th>Date_of_Delivery</th>\n",
       "      <th>Time_of_Delivery</th>\n",
       "      <th>Year</th>\n",
       "      <th>Month</th>\n",
       "      <th>Day</th>\n",
       "    </tr>\n",
       "  </thead>\n",
       "  <tbody>\n",
       "    <tr>\n",
       "      <th>0</th>\n",
       "      <td>A101</td>\n",
       "      <td>48.115334</td>\n",
       "      <td>-1.676348</td>\n",
       "      <td>Male</td>\n",
       "      <td>18</td>\n",
       "      <td>Grooming</td>\n",
       "      <td>A</td>\n",
       "      <td>3</td>\n",
       "      <td>2020-01-01</td>\n",
       "      <td>1405</td>\n",
       "      <td>2020</td>\n",
       "      <td>1</td>\n",
       "      <td>1</td>\n",
       "    </tr>\n",
       "    <tr>\n",
       "      <th>1</th>\n",
       "      <td>A102</td>\n",
       "      <td>48.088967</td>\n",
       "      <td>-1.660292</td>\n",
       "      <td>Male</td>\n",
       "      <td>19</td>\n",
       "      <td>Electronics</td>\n",
       "      <td>A</td>\n",
       "      <td>2</td>\n",
       "      <td>2020-01-02</td>\n",
       "      <td>1405</td>\n",
       "      <td>2020</td>\n",
       "      <td>1</td>\n",
       "      <td>2</td>\n",
       "    </tr>\n",
       "    <tr>\n",
       "      <th>2</th>\n",
       "      <td>A103</td>\n",
       "      <td>47.216827</td>\n",
       "      <td>-1.557359</td>\n",
       "      <td>Male</td>\n",
       "      <td>20</td>\n",
       "      <td>Home &amp; Kitchen</td>\n",
       "      <td>A</td>\n",
       "      <td>4</td>\n",
       "      <td>2020-01-03</td>\n",
       "      <td>1405</td>\n",
       "      <td>2020</td>\n",
       "      <td>1</td>\n",
       "      <td>3</td>\n",
       "    </tr>\n",
       "    <tr>\n",
       "      <th>3</th>\n",
       "      <td>A104</td>\n",
       "      <td>48.122202</td>\n",
       "      <td>-1.632854</td>\n",
       "      <td>Male</td>\n",
       "      <td>21</td>\n",
       "      <td>Sports</td>\n",
       "      <td>A</td>\n",
       "      <td>2</td>\n",
       "      <td>2020-01-04</td>\n",
       "      <td>1405</td>\n",
       "      <td>2020</td>\n",
       "      <td>1</td>\n",
       "      <td>4</td>\n",
       "    </tr>\n",
       "    <tr>\n",
       "      <th>4</th>\n",
       "      <td>A105</td>\n",
       "      <td>48.132581</td>\n",
       "      <td>-1.658611</td>\n",
       "      <td>Male</td>\n",
       "      <td>22</td>\n",
       "      <td>Books</td>\n",
       "      <td>A</td>\n",
       "      <td>3</td>\n",
       "      <td>2020-01-05</td>\n",
       "      <td>1405</td>\n",
       "      <td>2020</td>\n",
       "      <td>1</td>\n",
       "      <td>5</td>\n",
       "    </tr>\n",
       "  </tbody>\n",
       "</table>\n",
       "</div>"
      ],
      "text/plain": [
       "     ID   Latitude  Longitude Gender  Age Type_of_Product Weight_Category  \\\n",
       "0  A101  48.115334  -1.676348   Male   18        Grooming               A   \n",
       "1  A102  48.088967  -1.660292   Male   19     Electronics               A   \n",
       "2  A103  47.216827  -1.557359   Male   20  Home & Kitchen               A   \n",
       "3  A104  48.122202  -1.632854   Male   21          Sports               A   \n",
       "4  A105  48.132581  -1.658611   Male   22           Books               A   \n",
       "\n",
       "   No. of Products Date_of_Delivery  Time_of_Delivery  Year  Month  Day  \n",
       "0                3       2020-01-01              1405  2020      1    1  \n",
       "1                2       2020-01-02              1405  2020      1    2  \n",
       "2                4       2020-01-03              1405  2020      1    3  \n",
       "3                2       2020-01-04              1405  2020      1    4  \n",
       "4                3       2020-01-05              1405  2020      1    5  "
      ]
     },
     "execution_count": 145,
     "metadata": {},
     "output_type": "execute_result"
    }
   ],
   "source": [
    "data.head()"
   ]
  },
  {
   "cell_type": "markdown",
   "metadata": {},
   "source": [
    "#### Gender Ratio"
   ]
  },
  {
   "cell_type": "code",
   "execution_count": 146,
   "metadata": {},
   "outputs": [],
   "source": [
    "m = data[data['Gender'] == 'Male'].shape[0]"
   ]
  },
  {
   "cell_type": "code",
   "execution_count": 147,
   "metadata": {},
   "outputs": [],
   "source": [
    "f = data[data['Gender'] == 'Female'].shape[0]"
   ]
  },
  {
   "cell_type": "code",
   "execution_count": 148,
   "metadata": {},
   "outputs": [
    {
     "name": "stdout",
     "output_type": "stream",
     "text": [
      "Number of customers based on gender:\n",
      " Female    11001\n",
      "Male       9000\n",
      "Name: Gender, dtype: int64\n"
     ]
    }
   ],
   "source": [
    "print(\"Number of customers based on gender:\" + \"\\n\",data['Gender'].value_counts())"
   ]
  },
  {
   "cell_type": "code",
   "execution_count": 149,
   "metadata": {},
   "outputs": [
    {
     "data": {
      "text/plain": [
       "Text(0, 0.5, 'Count')"
      ]
     },
     "execution_count": 149,
     "metadata": {},
     "output_type": "execute_result"
    },
    {
     "data": {
      "image/png": "[encoded data removed]",
      "text/plain": [
       "<Figure size 432x288 with 1 Axes>"
      ]
     },
     "metadata": {
      "needs_background": "light"
     },
     "output_type": "display_data"
    }
   ],
   "source": [
    "plt.bar(['Male','Female'],(m,f),width = 0.4,color= ['blue','green'])\n",
    "plt.ylabel(\"Count\")"
   ]
  },
  {
   "cell_type": "markdown",
   "metadata": {},
   "source": [
    "#### Product counts"
   ]
  },
  {
   "cell_type": "code",
   "execution_count": 150,
   "metadata": {},
   "outputs": [],
   "source": [
    "type_counts = np.array([5560,2881,2120,2120,2040,2040,1800,1440])\n",
    "mylabels = [\"Electronics\",\"Toys\",\"Furniture\",\"Books\",\"Sports\",\"Grooming\",\"Home & Kitchen\",\"Fashion\"]\n"
   ]
  },
  {
   "cell_type": "code",
   "execution_count": 151,
   "metadata": {},
   "outputs": [
    {
     "data": {
      "text/plain": [
       "Electronics       5560\n",
       "Toys              2881\n",
       "Furniture         2120\n",
       "Books             2120\n",
       "Sports            2040\n",
       "Grooming          2040\n",
       "Home & Kitchen    1800\n",
       "Fashion           1440\n",
       "Name: Type_of_Product, dtype: int64"
      ]
     },
     "execution_count": 151,
     "metadata": {},
     "output_type": "execute_result"
    }
   ],
   "source": [
    "data['Type_of_Product'].value_counts()"
   ]
  },
  {
   "cell_type": "code",
   "execution_count": 152,
   "metadata": {},
   "outputs": [
    {
     "data": {
      "image/png": "[encoded data removed]",
      "text/plain": [
       "<Figure size 432x288 with 1 Axes>"
      ]
     },
     "metadata": {},
     "output_type": "display_data"
    }
   ],
   "source": [
    "plt.pie(type_counts, labels = mylabels)\n",
    "plt.show() "
   ]
  },
  {
   "cell_type": "code",
   "execution_count": null,
   "metadata": {},
   "outputs": [],
   "source": []
  },
  {
   "cell_type": "code",
   "execution_count": null,
   "metadata": {},
   "outputs": [],
   "source": []
  },
  {
   "cell_type": "markdown",
   "metadata": {},
   "source": [
    "#### Product categories"
   ]
  },
  {
   "cell_type": "code",
   "execution_count": 153,
   "metadata": {},
   "outputs": [],
   "source": [
    "a = data[data['Weight_Category'] == 'A'].shape[0]"
   ]
  },
  {
   "cell_type": "code",
   "execution_count": 154,
   "metadata": {},
   "outputs": [],
   "source": [
    "b = data[data['Weight_Category'] == 'B'].shape[0]"
   ]
  },
  {
   "cell_type": "code",
   "execution_count": 155,
   "metadata": {},
   "outputs": [],
   "source": [
    "c = data[data['Weight_Category'] == 'C'].shape[0]"
   ]
  },
  {
   "cell_type": "code",
   "execution_count": 156,
   "metadata": {},
   "outputs": [],
   "source": [
    "d = data[data['Weight_Category'] == 'D'].shape[0]"
   ]
  },
  {
   "cell_type": "code",
   "execution_count": 157,
   "metadata": {},
   "outputs": [
    {
     "data": {
      "text/plain": [
       "Text(0, 0.5, 'Count')"
      ]
     },
     "execution_count": 157,
     "metadata": {},
     "output_type": "execute_result"
    },
    {
     "data": {
      "image/png": "[encoded data removed]",
      "text/plain": [
       "<Figure size 432x288 with 1 Axes>"
      ]
     },
     "metadata": {
      "needs_background": "light"
     },
     "output_type": "display_data"
    }
   ],
   "source": [
    "plt.bar(['A','B','C','D'],(a,b,c,d),width = 0.4,color= ['blue','green','yellow','orange'],\n",
    "       tick_label = ['A(0-5)kg','B(6-10)kg','C(11-15)kg','D(15+)kg'])\n",
    "plt.ylabel(\"Count\")"
   ]
  },
  {
   "cell_type": "code",
   "execution_count": null,
   "metadata": {},
   "outputs": [],
   "source": []
  },
  {
   "cell_type": "markdown",
   "metadata": {},
   "source": [
    "#### Dropping unnecessary columns"
   ]
  },
  {
   "cell_type": "code",
   "execution_count": 158,
   "metadata": {},
   "outputs": [],
   "source": [
    "data = data.drop(['ID','Date_of_Delivery'],axis = 1)"
   ]
  },
  {
   "cell_type": "code",
   "execution_count": 159,
   "metadata": {},
   "outputs": [],
   "source": [
    "data1 = pd.get_dummies(data,drop_first = True)"
   ]
  },
  {
   "cell_type": "code",
   "execution_count": 160,
   "metadata": {},
   "outputs": [
    {
     "data": {
      "text/plain": [
       "Index(['Latitude', 'Longitude', 'Age', 'No. of Products', 'Time_of_Delivery',\n",
       "       'Year', 'Month', 'Day', 'Gender_Male', 'Type_of_Product_Electronics',\n",
       "       'Type_of_Product_Fashion', 'Type_of_Product_Furniture',\n",
       "       'Type_of_Product_Grooming', 'Type_of_Product_Home & Kitchen',\n",
       "       'Type_of_Product_Sports', 'Type_of_Product_Toys', 'Weight_Category_B',\n",
       "       'Weight_Category_C', 'Weight_Category_D'],\n",
       "      dtype='object')"
      ]
     },
     "execution_count": 160,
     "metadata": {},
     "output_type": "execute_result"
    }
   ],
   "source": [
    "data1.columns"
   ]
  },
  {
   "cell_type": "markdown",
   "metadata": {},
   "source": [
    "#### Checking for correlation among numerical variables"
   ]
  },
  {
   "cell_type": "code",
   "execution_count": 161,
   "metadata": {},
   "outputs": [
    {
     "data": {
      "text/plain": [
       "Index(['Latitude', 'Longitude', 'Age', 'No. of Products', 'Time_of_Delivery',\n",
       "       'Year', 'Month', 'Day'],\n",
       "      dtype='object')"
      ]
     },
     "execution_count": 161,
     "metadata": {},
     "output_type": "execute_result"
    }
   ],
   "source": [
    "num_attr = data1.select_dtypes(include=['int64', 'float64']).columns\n",
    "num_attr"
   ]
  },
  {
   "cell_type": "code",
   "execution_count": 162,
   "metadata": {},
   "outputs": [
    {
     "data": {
      "text/html": [
       "<div>\n",
       "<style scoped>\n",
       "    .dataframe tbody tr th:only-of-type {\n",
       "        vertical-align: middle;\n",
       "    }\n",
       "\n",
       "    .dataframe tbody tr th {\n",
       "        vertical-align: top;\n",
       "    }\n",
       "\n",
       "    .dataframe thead th {\n",
       "        text-align: right;\n",
       "    }\n",
       "</style>\n",
       "<table border=\"1\" class=\"dataframe\">\n",
       "  <thead>\n",
       "    <tr style=\"text-align: right;\">\n",
       "      <th></th>\n",
       "      <th>Latitude</th>\n",
       "      <th>Longitude</th>\n",
       "      <th>Age</th>\n",
       "      <th>No. of Products</th>\n",
       "      <th>Time_of_Delivery</th>\n",
       "      <th>Year</th>\n",
       "      <th>Month</th>\n",
       "      <th>Day</th>\n",
       "    </tr>\n",
       "  </thead>\n",
       "  <tbody>\n",
       "    <tr>\n",
       "      <th>Latitude</th>\n",
       "      <td>1.000000</td>\n",
       "      <td>-0.468428</td>\n",
       "      <td>0.066822</td>\n",
       "      <td>-0.006619</td>\n",
       "      <td>0.000530</td>\n",
       "      <td>0.007215</td>\n",
       "      <td>0.004085</td>\n",
       "      <td>0.004509</td>\n",
       "    </tr>\n",
       "    <tr>\n",
       "      <th>Longitude</th>\n",
       "      <td>-0.468428</td>\n",
       "      <td>1.000000</td>\n",
       "      <td>-0.010018</td>\n",
       "      <td>0.000913</td>\n",
       "      <td>-0.000067</td>\n",
       "      <td>0.006698</td>\n",
       "      <td>-0.000200</td>\n",
       "      <td>-0.008413</td>\n",
       "    </tr>\n",
       "    <tr>\n",
       "      <th>Age</th>\n",
       "      <td>0.066822</td>\n",
       "      <td>-0.010018</td>\n",
       "      <td>1.000000</td>\n",
       "      <td>-0.004265</td>\n",
       "      <td>-0.005644</td>\n",
       "      <td>0.038170</td>\n",
       "      <td>-0.033488</td>\n",
       "      <td>-0.018558</td>\n",
       "    </tr>\n",
       "    <tr>\n",
       "      <th>No. of Products</th>\n",
       "      <td>-0.006619</td>\n",
       "      <td>0.000913</td>\n",
       "      <td>-0.004265</td>\n",
       "      <td>1.000000</td>\n",
       "      <td>0.000123</td>\n",
       "      <td>0.008292</td>\n",
       "      <td>-0.007077</td>\n",
       "      <td>0.001309</td>\n",
       "    </tr>\n",
       "    <tr>\n",
       "      <th>Time_of_Delivery</th>\n",
       "      <td>0.000530</td>\n",
       "      <td>-0.000067</td>\n",
       "      <td>-0.005644</td>\n",
       "      <td>0.000123</td>\n",
       "      <td>1.000000</td>\n",
       "      <td>-0.009052</td>\n",
       "      <td>0.001785</td>\n",
       "      <td>-0.002810</td>\n",
       "    </tr>\n",
       "    <tr>\n",
       "      <th>Year</th>\n",
       "      <td>0.007215</td>\n",
       "      <td>0.006698</td>\n",
       "      <td>0.038170</td>\n",
       "      <td>0.008292</td>\n",
       "      <td>-0.009052</td>\n",
       "      <td>1.000000</td>\n",
       "      <td>-0.481808</td>\n",
       "      <td>-0.054811</td>\n",
       "    </tr>\n",
       "    <tr>\n",
       "      <th>Month</th>\n",
       "      <td>0.004085</td>\n",
       "      <td>-0.000200</td>\n",
       "      <td>-0.033488</td>\n",
       "      <td>-0.007077</td>\n",
       "      <td>0.001785</td>\n",
       "      <td>-0.481808</td>\n",
       "      <td>1.000000</td>\n",
       "      <td>0.012692</td>\n",
       "    </tr>\n",
       "    <tr>\n",
       "      <th>Day</th>\n",
       "      <td>0.004509</td>\n",
       "      <td>-0.008413</td>\n",
       "      <td>-0.018558</td>\n",
       "      <td>0.001309</td>\n",
       "      <td>-0.002810</td>\n",
       "      <td>-0.054811</td>\n",
       "      <td>0.012692</td>\n",
       "      <td>1.000000</td>\n",
       "    </tr>\n",
       "  </tbody>\n",
       "</table>\n",
       "</div>"
      ],
      "text/plain": [
       "                  Latitude  Longitude       Age  No. of Products  \\\n",
       "Latitude          1.000000  -0.468428  0.066822        -0.006619   \n",
       "Longitude        -0.468428   1.000000 -0.010018         0.000913   \n",
       "Age               0.066822  -0.010018  1.000000        -0.004265   \n",
       "No. of Products  -0.006619   0.000913 -0.004265         1.000000   \n",
       "Time_of_Delivery  0.000530  -0.000067 -0.005644         0.000123   \n",
       "Year              0.007215   0.006698  0.038170         0.008292   \n",
       "Month             0.004085  -0.000200 -0.033488        -0.007077   \n",
       "Day               0.004509  -0.008413 -0.018558         0.001309   \n",
       "\n",
       "                  Time_of_Delivery      Year     Month       Day  \n",
       "Latitude                  0.000530  0.007215  0.004085  0.004509  \n",
       "Longitude                -0.000067  0.006698 -0.000200 -0.008413  \n",
       "Age                      -0.005644  0.038170 -0.033488 -0.018558  \n",
       "No. of Products           0.000123  0.008292 -0.007077  0.001309  \n",
       "Time_of_Delivery          1.000000 -0.009052  0.001785 -0.002810  \n",
       "Year                     -0.009052  1.000000 -0.481808 -0.054811  \n",
       "Month                     0.001785 -0.481808  1.000000  0.012692  \n",
       "Day                      -0.002810 -0.054811  0.012692  1.000000  "
      ]
     },
     "execution_count": 162,
     "metadata": {},
     "output_type": "execute_result"
    }
   ],
   "source": [
    "data1[num_attr].corr()"
   ]
  },
  {
   "cell_type": "code",
   "execution_count": null,
   "metadata": {},
   "outputs": [],
   "source": []
  },
  {
   "cell_type": "code",
   "execution_count": 163,
   "metadata": {},
   "outputs": [
    {
     "data": {
      "image/png": "[encoded data removed]",
      "text/plain": [
       "<Figure size 1152x1152 with 2 Axes>"
      ]
     },
     "metadata": {
      "needs_background": "light"
     },
     "output_type": "display_data"
    },
    {
     "name": "stdout",
     "output_type": "stream",
     "text": [
      "Note :-A correlation of 0 means that no relationship exists between the two variables, whereas a correlation of 1 indicates a perfect positive relationship.\n"
     ]
    }
   ],
   "source": [
    "plt.figure(figsize=(16,16))\n",
    "sns.heatmap(data.corr())\n",
    "plt.show()\n",
    "\n",
    "print(\"Note :-A correlation of 0 means that no relationship exists between the two variables, whereas a correlation of 1 indicates a perfect positive relationship.\")"
   ]
  },
  {
   "cell_type": "markdown",
   "metadata": {},
   "source": [
    "#### Splitting the dataset into train and test"
   ]
  },
  {
   "cell_type": "code",
   "execution_count": 164,
   "metadata": {},
   "outputs": [],
   "source": [
    "X = data1.copy()"
   ]
  },
  {
   "cell_type": "code",
   "execution_count": 165,
   "metadata": {},
   "outputs": [
    {
     "data": {
      "text/plain": [
       "Index(['Latitude', 'Longitude', 'Age', 'No. of Products', 'Time_of_Delivery',\n",
       "       'Year', 'Month', 'Day', 'Gender_Male', 'Type_of_Product_Electronics',\n",
       "       'Type_of_Product_Fashion', 'Type_of_Product_Furniture',\n",
       "       'Type_of_Product_Grooming', 'Type_of_Product_Home & Kitchen',\n",
       "       'Type_of_Product_Sports', 'Type_of_Product_Toys', 'Weight_Category_B',\n",
       "       'Weight_Category_C', 'Weight_Category_D'],\n",
       "      dtype='object')"
      ]
     },
     "execution_count": 165,
     "metadata": {},
     "output_type": "execute_result"
    }
   ],
   "source": [
    "X.columns"
   ]
  },
  {
   "cell_type": "code",
   "execution_count": 166,
   "metadata": {},
   "outputs": [],
   "source": [
    "X = X.drop(['Time_of_Delivery'],axis = 1)"
   ]
  },
  {
   "cell_type": "code",
   "execution_count": 167,
   "metadata": {},
   "outputs": [],
   "source": [
    "y = data1['Time_of_Delivery']"
   ]
  },
  {
   "cell_type": "code",
   "execution_count": null,
   "metadata": {},
   "outputs": [],
   "source": []
  },
  {
   "cell_type": "code",
   "execution_count": 168,
   "metadata": {},
   "outputs": [],
   "source": [
    "X_train, X_test, y_train, y_test = train_test_split(X, y, test_size=0.2, random_state=111)"
   ]
  },
  {
   "cell_type": "markdown",
   "metadata": {},
   "source": [
    "#### Standardizing the dataset"
   ]
  },
  {
   "cell_type": "code",
   "execution_count": 169,
   "metadata": {},
   "outputs": [
    {
     "data": {
      "text/plain": [
       "StandardScaler(copy=True, with_mean=True, with_std=True)"
      ]
     },
     "execution_count": 169,
     "metadata": {},
     "output_type": "execute_result"
    }
   ],
   "source": [
    "scale = StandardScaler()\n",
    "scale.fit(X_train)"
   ]
  },
  {
   "cell_type": "code",
   "execution_count": 170,
   "metadata": {},
   "outputs": [],
   "source": [
    "X_train_std = scale.transform(X_train)\n",
    "X_test_std = scale.transform(X_test)"
   ]
  },
  {
   "cell_type": "markdown",
   "metadata": {},
   "source": [
    "## Feeding the datset to various algorithms"
   ]
  },
  {
   "cell_type": "markdown",
   "metadata": {},
   "source": [
    "#### Linear Regression"
   ]
  },
  {
   "cell_type": "code",
   "execution_count": 171,
   "metadata": {},
   "outputs": [],
   "source": [
    "linreg = LinearRegression() "
   ]
  },
  {
   "cell_type": "code",
   "execution_count": 172,
   "metadata": {},
   "outputs": [
    {
     "data": {
      "text/plain": [
       "LinearRegression(copy_X=True, fit_intercept=True, n_jobs=None, normalize=False)"
      ]
     },
     "execution_count": 172,
     "metadata": {},
     "output_type": "execute_result"
    }
   ],
   "source": [
    "linreg.fit(X_train_std, y_train)"
   ]
  },
  {
   "cell_type": "code",
   "execution_count": 173,
   "metadata": {},
   "outputs": [
    {
     "name": "stdout",
     "output_type": "stream",
     "text": [
      "The coefficients are [-1.26764525 -0.77613518 -1.38762448  2.5904474  -3.70340326 -1.89264881\n",
      "  0.07502271 -0.32637443 -1.14534366  1.28740695  1.21560359  0.40419369\n",
      " -0.25153517  2.13523205  1.13589385 -0.00874422 -2.05057619 -1.77261967]\n",
      "The intercept is:  1210.4196875000002\n"
     ]
    }
   ],
   "source": [
    "print (\"The coefficients are\", linreg.coef_)\n",
    "print (\"The intercept is: \", linreg.intercept_)"
   ]
  },
  {
   "cell_type": "code",
   "execution_count": 178,
   "metadata": {},
   "outputs": [],
   "source": [
    "train_pred_linear = linreg.predict(X_train_std)\n",
    "test_pred_linear = linreg.predict(X_test_std)"
   ]
  },
  {
   "cell_type": "code",
   "execution_count": 179,
   "metadata": {},
   "outputs": [],
   "source": [
    "from sklearn.metrics import mean_absolute_error\n",
    "import math"
   ]
  },
  {
   "cell_type": "code",
   "execution_count": 218,
   "metadata": {},
   "outputs": [],
   "source": [
    "mae_linear = mean_absolute_error(y_test,test_pred_linear)"
   ]
  },
  {
   "cell_type": "code",
   "execution_count": 219,
   "metadata": {},
   "outputs": [],
   "source": [
    "mse_linear = mean_squared_error(y_test,test_pred_linear)"
   ]
  },
  {
   "cell_type": "code",
   "execution_count": 220,
   "metadata": {},
   "outputs": [],
   "source": [
    "rmse_linear = math.sqrt(mean_squared_error(y_test,test_pred_linear))"
   ]
  },
  {
   "cell_type": "code",
   "execution_count": 221,
   "metadata": {},
   "outputs": [],
   "source": [
    "r2_linear = r2_score(y_pred=test_pred_linear, y_true=y_test)\n",
    "n = len(y_test)\n",
    "p = X_test_std.shape[1]\n",
    "adj_r_linear = 1 - ((1 - r2_linear) * (n - 1)) / (n - p - 1)"
   ]
  },
  {
   "cell_type": "code",
   "execution_count": 222,
   "metadata": {},
   "outputs": [
    {
     "name": "stdout",
     "output_type": "stream",
     "text": [
      "For Linear Regression:\n",
      "Mean Absolute Error is 116.80824139068137\n",
      "Mean Squared Error is 34462.95546836403\n",
      "Root Mean Squared Error is 185.64200889982857\n",
      "Adjusted R2 value is 0.2382984397583865\n"
     ]
    }
   ],
   "source": [
    "print(\"For Linear Regression:\")\n",
    "print(\"Mean Absolute Error is\",mae_linear)\n",
    "print(\"Mean Squared Error is\",mse_linear)\n",
    "print(\"Root Mean Squared Error is\",math.sqrt(mse_linear))\n",
    "print(\"Adjusted R2 value is\",adj_r_linear)"
   ]
  },
  {
   "cell_type": "code",
   "execution_count": null,
   "metadata": {},
   "outputs": [],
   "source": []
  },
  {
   "cell_type": "code",
   "execution_count": null,
   "metadata": {},
   "outputs": [],
   "source": []
  },
  {
   "cell_type": "markdown",
   "metadata": {},
   "source": [
    "#### Decision Tree Regressor"
   ]
  },
  {
   "cell_type": "code",
   "execution_count": 39,
   "metadata": {},
   "outputs": [],
   "source": [
    "from sklearn.tree import DecisionTreeRegressor"
   ]
  },
  {
   "cell_type": "code",
   "execution_count": 40,
   "metadata": {},
   "outputs": [],
   "source": [
    "regr_1 = DecisionTreeRegressor(max_depth = 15)"
   ]
  },
  {
   "cell_type": "code",
   "execution_count": 41,
   "metadata": {},
   "outputs": [
    {
     "data": {
      "text/plain": [
       "DecisionTreeRegressor(ccp_alpha=0.0, criterion='mse', max_depth=15,\n",
       "                      max_features=None, max_leaf_nodes=None,\n",
       "                      min_impurity_decrease=0.0, min_impurity_split=None,\n",
       "                      min_samples_leaf=1, min_samples_split=2,\n",
       "                      min_weight_fraction_leaf=0.0, presort='deprecated',\n",
       "                      random_state=None, splitter='best')"
      ]
     },
     "execution_count": 41,
     "metadata": {},
     "output_type": "execute_result"
    }
   ],
   "source": [
    "regr_1.fit(X_train_std, y_train)"
   ]
  },
  {
   "cell_type": "code",
   "execution_count": 42,
   "metadata": {},
   "outputs": [],
   "source": [
    "train_pred_DT = regr_1.predict(X_train_std)\n",
    "test_pred_DT = regr_1.predict(X_test_std)"
   ]
  },
  {
   "cell_type": "code",
   "execution_count": 223,
   "metadata": {},
   "outputs": [],
   "source": [
    "mae_DT = mean_absolute_error(y_test,test_pred_DT)"
   ]
  },
  {
   "cell_type": "code",
   "execution_count": 224,
   "metadata": {},
   "outputs": [],
   "source": [
    "mse_DT = mean_squared_error(y_test,test_pred_DT)"
   ]
  },
  {
   "cell_type": "code",
   "execution_count": 225,
   "metadata": {},
   "outputs": [],
   "source": [
    "rmse_DT = math.sqrt(mean_squared_error(y_test,test_pred_DT))"
   ]
  },
  {
   "cell_type": "code",
   "execution_count": 226,
   "metadata": {},
   "outputs": [],
   "source": [
    "r2_DT = r2_score(y_pred=test_pred_DT, y_true=y_test)\n",
    "n = len(y_test)\n",
    "p = X_test_std.shape[1]\n",
    "adj_r_DT = 1 - ((1 - r2_DT) * (n - 1)) / (n - p - 1)"
   ]
  },
  {
   "cell_type": "code",
   "execution_count": 228,
   "metadata": {},
   "outputs": [
    {
     "name": "stdout",
     "output_type": "stream",
     "text": [
      "For Decision Tree Regressor:\n",
      "Mean Absolute Error is 105.65473316746939\n",
      "Mean Squared Error is 40658.679751601965\n",
      "Root Mean Squared Error is 201.63997557925353\n",
      "Adjusted R2 value is 0.5674517051333556\n"
     ]
    }
   ],
   "source": [
    "print(\"For Decision Tree Regressor:\")\n",
    "print(\"Mean Absolute Error is\",mae_DT)\n",
    "print(\"Mean Squared Error is\",mse_DT)\n",
    "print(\"Root Mean Squared Error is\",math.sqrt(mse_DT))\n",
    "print(\"Adjusted R2 value is\",adj_r_DT)"
   ]
  },
  {
   "cell_type": "code",
   "execution_count": null,
   "metadata": {},
   "outputs": [],
   "source": []
  },
  {
   "cell_type": "code",
   "execution_count": null,
   "metadata": {},
   "outputs": [],
   "source": []
  },
  {
   "cell_type": "markdown",
   "metadata": {},
   "source": [
    "#### LASSO"
   ]
  },
  {
   "cell_type": "code",
   "execution_count": 45,
   "metadata": {},
   "outputs": [],
   "source": [
    "from sklearn import linear_model"
   ]
  },
  {
   "cell_type": "code",
   "execution_count": 46,
   "metadata": {},
   "outputs": [
    {
     "data": {
      "text/plain": [
       "Lasso(alpha=1, copy_X=True, fit_intercept=True, max_iter=10, normalize=False,\n",
       "      positive=False, precompute=False, random_state=None, selection='cyclic',\n",
       "      tol=0.0001, warm_start=False)"
      ]
     },
     "execution_count": 46,
     "metadata": {},
     "output_type": "execute_result"
    }
   ],
   "source": [
    "lasso_reg = linear_model.Lasso(alpha = 1, max_iter = 10)\n",
    "lasso_reg.fit(X_train_std,y_train)"
   ]
  },
  {
   "cell_type": "code",
   "execution_count": 48,
   "metadata": {},
   "outputs": [],
   "source": [
    "train_pred_lasso = lasso_reg.predict(X_train_std)\n",
    "test_pred_lasso = lasso_reg.predict(X_test_std)"
   ]
  },
  {
   "cell_type": "code",
   "execution_count": 229,
   "metadata": {},
   "outputs": [],
   "source": [
    "mae_lasso = mean_absolute_error(y_test,test_pred_lasso)"
   ]
  },
  {
   "cell_type": "code",
   "execution_count": 230,
   "metadata": {},
   "outputs": [],
   "source": [
    "mse_lasso = mean_squared_error(y_test,test_pred_lasso)"
   ]
  },
  {
   "cell_type": "code",
   "execution_count": 231,
   "metadata": {},
   "outputs": [],
   "source": [
    "rmse_lasso = math.sqrt(mean_squared_error(y_test,test_pred_lasso))"
   ]
  },
  {
   "cell_type": "code",
   "execution_count": 232,
   "metadata": {},
   "outputs": [],
   "source": [
    "r2_lasso = r2_score(y_pred=test_pred_lasso, y_true=y_test)\n",
    "n = len(y_test)\n",
    "p = X_test_std.shape[1]\n",
    "adj_r_lasso = 1 - ((1 - r2_lasso) * (n - 1)) / (n - p - 1)"
   ]
  },
  {
   "cell_type": "code",
   "execution_count": 234,
   "metadata": {},
   "outputs": [
    {
     "name": "stdout",
     "output_type": "stream",
     "text": [
      "For LASSO:\n",
      "Mean Absolute Error is 116.7337191202131\n",
      "Mean Squared Error is 34401.463513879826\n",
      "Root Mean Squared Error is 185.4763152369591\n",
      "Adjusted R2 value is 0.1843445044075942\n"
     ]
    }
   ],
   "source": [
    "print(\"For LASSO:\")\n",
    "print(\"Mean Absolute Error is\",mae_lasso)\n",
    "print(\"Mean Squared Error is\",mse_lasso)\n",
    "print(\"Root Mean Squared Error is\",math.sqrt(mse_lasso))\n",
    "print(\"Adjusted R2 value is\",adj_r_lasso)"
   ]
  },
  {
   "cell_type": "code",
   "execution_count": null,
   "metadata": {},
   "outputs": [],
   "source": []
  },
  {
   "cell_type": "markdown",
   "metadata": {},
   "source": [
    "#### Ridge"
   ]
  },
  {
   "cell_type": "code",
   "execution_count": 50,
   "metadata": {},
   "outputs": [],
   "source": [
    "from sklearn.linear_model import Ridge"
   ]
  },
  {
   "cell_type": "code",
   "execution_count": 51,
   "metadata": {},
   "outputs": [],
   "source": [
    "ridge = Ridge(alpha=1.0)"
   ]
  },
  {
   "cell_type": "code",
   "execution_count": 52,
   "metadata": {},
   "outputs": [
    {
     "data": {
      "text/plain": [
       "Ridge(alpha=1.0, copy_X=True, fit_intercept=True, max_iter=None,\n",
       "      normalize=False, random_state=None, solver='auto', tol=0.001)"
      ]
     },
     "execution_count": 52,
     "metadata": {},
     "output_type": "execute_result"
    }
   ],
   "source": [
    "ridge.fit(X_train_std,y_train)"
   ]
  },
  {
   "cell_type": "code",
   "execution_count": 192,
   "metadata": {},
   "outputs": [],
   "source": [
    "train_pred_ridge = ridge.predict(X_train_std)\n",
    "test_pred_ridge = ridge.predict(X_test_std)"
   ]
  },
  {
   "cell_type": "code",
   "execution_count": 235,
   "metadata": {},
   "outputs": [],
   "source": [
    "mae_ridge = mean_absolute_error(y_test,test_pred_ridge)"
   ]
  },
  {
   "cell_type": "code",
   "execution_count": 236,
   "metadata": {},
   "outputs": [],
   "source": [
    "mse_ridge = mean_squared_error(y_test,test_pred_ridge)"
   ]
  },
  {
   "cell_type": "code",
   "execution_count": 237,
   "metadata": {},
   "outputs": [],
   "source": [
    "rmse_ridge = math.sqrt(mean_squared_error(y_test,test_pred_ridge))"
   ]
  },
  {
   "cell_type": "code",
   "execution_count": 238,
   "metadata": {},
   "outputs": [],
   "source": [
    "r2_ridge = r2_score(y_pred=test_pred_ridge, y_true=y_test)\n",
    "n = len(y_test)\n",
    "p = X_test_std.shape[1]\n",
    "adj_r_ridge = 1 - ((1 - r2_ridge) * (n - 1)) / (n - p - 1)"
   ]
  },
  {
   "cell_type": "code",
   "execution_count": 239,
   "metadata": {},
   "outputs": [
    {
     "name": "stdout",
     "output_type": "stream",
     "text": [
      "For Ridge:\n",
      "Mean Absolute Error is 116.80823255426853\n",
      "Mean Squared Error is 34462.94527111754\n",
      "Root Mean Squared Error is 185.64198143501253\n",
      "Adjusted R2 value is 0.23828949254598886\n"
     ]
    }
   ],
   "source": [
    "print(\"For Ridge:\")\n",
    "print(\"Mean Absolute Error is\",mae_ridge)\n",
    "print(\"Mean Squared Error is\",mse_ridge)\n",
    "print(\"Root Mean Squared Error is\",math.sqrt(mse_ridge))\n",
    "print(\"Adjusted R2 value is\",adj_r_ridge)"
   ]
  },
  {
   "cell_type": "code",
   "execution_count": null,
   "metadata": {},
   "outputs": [],
   "source": []
  },
  {
   "cell_type": "markdown",
   "metadata": {},
   "source": [
    "#### Random Forest Regressor"
   ]
  },
  {
   "cell_type": "code",
   "execution_count": 56,
   "metadata": {},
   "outputs": [],
   "source": [
    "from sklearn.ensemble import RandomForestRegressor"
   ]
  },
  {
   "cell_type": "code",
   "execution_count": 57,
   "metadata": {},
   "outputs": [],
   "source": [
    "rf = RandomForestRegressor(max_depth = 20)"
   ]
  },
  {
   "cell_type": "code",
   "execution_count": 58,
   "metadata": {},
   "outputs": [
    {
     "data": {
      "text/plain": [
       "RandomForestRegressor(bootstrap=True, ccp_alpha=0.0, criterion='mse',\n",
       "                      max_depth=20, max_features='auto', max_leaf_nodes=None,\n",
       "                      max_samples=None, min_impurity_decrease=0.0,\n",
       "                      min_impurity_split=None, min_samples_leaf=1,\n",
       "                      min_samples_split=2, min_weight_fraction_leaf=0.0,\n",
       "                      n_estimators=100, n_jobs=None, oob_score=False,\n",
       "                      random_state=None, verbose=0, warm_start=False)"
      ]
     },
     "execution_count": 58,
     "metadata": {},
     "output_type": "execute_result"
    }
   ],
   "source": [
    "rf.fit(X_train_std,y_train)"
   ]
  },
  {
   "cell_type": "code",
   "execution_count": 198,
   "metadata": {},
   "outputs": [],
   "source": [
    "train_pred_rf = rf.predict(X_train_std)\n",
    "test_pred_rf = rf.predict(X_test_std)"
   ]
  },
  {
   "cell_type": "code",
   "execution_count": 240,
   "metadata": {},
   "outputs": [],
   "source": [
    "mae_rf = mean_absolute_error(y_test,test_pred_rf)"
   ]
  },
  {
   "cell_type": "code",
   "execution_count": 241,
   "metadata": {},
   "outputs": [],
   "source": [
    "mse_rf = mean_squared_error(y_test,test_pred_rf)"
   ]
  },
  {
   "cell_type": "code",
   "execution_count": 242,
   "metadata": {},
   "outputs": [],
   "source": [
    "rmse_rf = math.sqrt(mean_squared_error(y_test,test_pred_rf))"
   ]
  },
  {
   "cell_type": "code",
   "execution_count": 243,
   "metadata": {},
   "outputs": [],
   "source": [
    "r2_rf = r2_score(y_pred=test_pred_rf, y_true=y_test)\n",
    "n = len(y_test)\n",
    "p = X_test_std.shape[1]\n",
    "adj_r_rf = 1 - ((1 - r2_rf) * (n - 1)) / (n - p - 1)"
   ]
  },
  {
   "cell_type": "code",
   "execution_count": 245,
   "metadata": {},
   "outputs": [
    {
     "name": "stdout",
     "output_type": "stream",
     "text": [
      "For Random Forest Regressor:\n",
      "Mean Absolute Error is 98.67155863547558\n",
      "Mean Squared Error is 17950.685025466206\n",
      "Root Mean Squared Error is 133.9801665376865\n",
      "Adjusted R2 value is 0.6499103257410193\n"
     ]
    }
   ],
   "source": [
    "print(\"For Random Forest Regressor:\")\n",
    "print(\"Mean Absolute Error is\",mae_rf)\n",
    "print(\"Mean Squared Error is\",mse_rf)\n",
    "print(\"Root Mean Squared Error is\",math.sqrt(mse_rf))\n",
    "print(\"Adjusted R2 value is\",adj_r_rf)"
   ]
  },
  {
   "cell_type": "markdown",
   "metadata": {},
   "source": [
    "#### XGB"
   ]
  },
  {
   "cell_type": "code",
   "execution_count": 63,
   "metadata": {},
   "outputs": [],
   "source": [
    "from xgboost import XGBRegressor"
   ]
  },
  {
   "cell_type": "code",
   "execution_count": 67,
   "metadata": {},
   "outputs": [],
   "source": [
    "xgb = XGBRegressor(n_estimators=1000, max_depth=7, eta=0.1, subsample=0.7, colsample_bytree=0.8)"
   ]
  },
  {
   "cell_type": "code",
   "execution_count": 68,
   "metadata": {},
   "outputs": [
    {
     "name": "stdout",
     "output_type": "stream",
     "text": [
      "[15:39:12] WARNING: C:/Jenkins/workspace/xgboost-win64_release_0.90/src/objective/regression_obj.cu:152: reg:linear is now deprecated in favor of reg:squarederror.\n"
     ]
    },
    {
     "data": {
      "text/plain": [
       "XGBRegressor(base_score=0.5, booster='gbtree', colsample_bylevel=1,\n",
       "             colsample_bynode=1, colsample_bytree=0.8, eta=0.1, gamma=0,\n",
       "             importance_type='gain', learning_rate=0.1, max_delta_step=0,\n",
       "             max_depth=7, min_child_weight=1, missing=None, n_estimators=1000,\n",
       "             n_jobs=1, nthread=None, objective='reg:linear', random_state=0,\n",
       "             reg_alpha=0, reg_lambda=1, scale_pos_weight=1, seed=None,\n",
       "             silent=None, subsample=0.7, verbosity=1)"
      ]
     },
     "execution_count": 68,
     "metadata": {},
     "output_type": "execute_result"
    }
   ],
   "source": [
    "xgb.fit(X_train_std,y_train)"
   ]
  },
  {
   "cell_type": "code",
   "execution_count": 203,
   "metadata": {},
   "outputs": [],
   "source": [
    "train_pred_xgb = xgb.predict(X_train_std)\n",
    "test_pred_xgb = xgb.predict(X_test_std)"
   ]
  },
  {
   "cell_type": "code",
   "execution_count": 247,
   "metadata": {},
   "outputs": [],
   "source": [
    "mae_xgb = mean_absolute_error(y_test,test_pred_xgb)"
   ]
  },
  {
   "cell_type": "code",
   "execution_count": 248,
   "metadata": {},
   "outputs": [],
   "source": [
    "mse_xgb = mean_squared_error(y_test,test_pred_xgb)"
   ]
  },
  {
   "cell_type": "code",
   "execution_count": 249,
   "metadata": {},
   "outputs": [],
   "source": [
    "rmse_xgb = math.sqrt(mean_squared_error(y_test,test_pred_xgb))"
   ]
  },
  {
   "cell_type": "code",
   "execution_count": 250,
   "metadata": {},
   "outputs": [],
   "source": [
    "r2_xgb = r2_score(y_pred=test_pred_xgb, y_true=y_test)\n",
    "n = len(y_test)\n",
    "p = X_test_std.shape[1]\n",
    "adj_r_xgb = 1 - ((1 - r2_xgb) * (n - 1)) / (n - p - 1)"
   ]
  },
  {
   "cell_type": "code",
   "execution_count": 252,
   "metadata": {},
   "outputs": [
    {
     "name": "stdout",
     "output_type": "stream",
     "text": [
      "For XGB Regressor:\n",
      "Mean Absolute Error is 103.00577054527872\n",
      "Mean Squared Error is 35952.505645108286\n",
      "Root Mean Squared Error is 189.6114596882485\n",
      "Adjusted R2 value is 0.3090502864842639\n"
     ]
    }
   ],
   "source": [
    "print(\"For XGB Regressor:\")\n",
    "print(\"Mean Absolute Error is\",mae_xgb)\n",
    "print(\"Mean Squared Error is\",mse_xgb)\n",
    "print(\"Root Mean Squared Error is\",math.sqrt(mse_xgb))\n",
    "print(\"Adjusted R2 value is\",adj_r_xgb)"
   ]
  }
 ],
 "metadata": {
  "kernelspec": {
   "display_name": "Python 3",
   "language": "python",
   "name": "python3"
  },
  "language_info": {
   "codemirror_mode": {
    "name": "ipython",
    "version": 3
   },
   "file_extension": ".py",
   "mimetype": "text/x-python",
   "name": "python",
   "nbconvert_exporter": "python",
   "pygments_lexer": "ipython3",
   "version": "3.7.3"
  }
 },
 "nbformat": 4,
 "nbformat_minor": 2
}
